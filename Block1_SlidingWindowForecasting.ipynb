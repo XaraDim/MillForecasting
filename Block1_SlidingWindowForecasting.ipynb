{
 "metadata": {
  "language_info": {
   "codemirror_mode": {
    "name": "ipython",
    "version": 3
   },
   "file_extension": ".py",
   "mimetype": "text/x-python",
   "name": "python",
   "nbconvert_exporter": "python",
   "pygments_lexer": "ipython3",
   "version": "3.8.6-final"
  },
  "orig_nbformat": 2,
  "kernelspec": {
   "name": "python3",
   "display_name": "Python 3",
   "language": "python"
  }
 },
 "nbformat": 4,
 "nbformat_minor": 2,
 "cells": [
  {
   "cell_type": "code",
   "execution_count": 37,
   "metadata": {},
   "outputs": [],
   "source": [
    "import pandas as pd\n",
    "import numpy as np\n",
    "import matplotlib.pyplot as plt\n",
    "%matplotlib inline\n",
    "pd.options.display.float_format = '{:.4f}'.format"
   ]
  },
  {
   "cell_type": "code",
   "execution_count": 38,
   "metadata": {},
   "outputs": [],
   "source": [
    "df = pd.read_csv('almost.csv', header=0, index_col=0)\n",
    "# a = df.copy()\n",
    "# a.index = pd.to_datetime(df.index)\n",
    "df = df.drop(columns=['diff'])\n",
    "df.index = pd.to_datetime(df.index)\n",
    "\n",
    "block1 = df[['separator_speed_rpm_pv','mill_dp_mbar_pv','separator_pwr_kw_pv']]\n",
    "target_block1 = 'separator_pwr_kw_pv'\n",
    "\n",
    "block2 = df[['separator_speed_rpm_pv','total_feed_perc_pv','fly_ash_1_perc_pv','fly_ash_2_perc_pv',\t'main_fan_speed_rpm_pv'\t,'grinding_pressure_bar_pv'\t,'mill_injection_water_m3/h_pv','bucket_elv_mtr_pwr_kw_pv','mill_dp_mbar_pv']]\n",
    "target_block2 = 'mill_dp_mbar_pv'\n"
   ]
  },
  {
   "cell_type": "code",
   "execution_count": 39,
   "metadata": {},
   "outputs": [
    {
     "output_type": "execute_result",
     "data": {
      "text/plain": [
       "                     separator_speed_rpm_pv  mill_dp_mbar_pv  \\\n",
       "date                                                           \n",
       "2019-05-10 11:24:30                735.8900          30.5100   \n",
       "2019-05-10 11:25:00                736.6800          31.6100   \n",
       "2019-05-10 11:25:30                747.6100          33.7100   \n",
       "2019-05-10 11:26:00                747.6100          34.6800   \n",
       "2019-05-10 11:26:30                747.5600          34.7100   \n",
       "\n",
       "                     separator_pwr_kw_pv  \n",
       "date                                      \n",
       "2019-05-10 11:24:30              55.7600  \n",
       "2019-05-10 11:25:00              55.8900  \n",
       "2019-05-10 11:25:30              56.0600  \n",
       "2019-05-10 11:26:00              55.6400  \n",
       "2019-05-10 11:26:30              55.4400  "
      ],
      "text/html": "<div>\n<style scoped>\n    .dataframe tbody tr th:only-of-type {\n        vertical-align: middle;\n    }\n\n    .dataframe tbody tr th {\n        vertical-align: top;\n    }\n\n    .dataframe thead th {\n        text-align: right;\n    }\n</style>\n<table border=\"1\" class=\"dataframe\">\n  <thead>\n    <tr style=\"text-align: right;\">\n      <th></th>\n      <th>separator_speed_rpm_pv</th>\n      <th>mill_dp_mbar_pv</th>\n      <th>separator_pwr_kw_pv</th>\n    </tr>\n    <tr>\n      <th>date</th>\n      <th></th>\n      <th></th>\n      <th></th>\n    </tr>\n  </thead>\n  <tbody>\n    <tr>\n      <th>2019-05-10 11:24:30</th>\n      <td>735.8900</td>\n      <td>30.5100</td>\n      <td>55.7600</td>\n    </tr>\n    <tr>\n      <th>2019-05-10 11:25:00</th>\n      <td>736.6800</td>\n      <td>31.6100</td>\n      <td>55.8900</td>\n    </tr>\n    <tr>\n      <th>2019-05-10 11:25:30</th>\n      <td>747.6100</td>\n      <td>33.7100</td>\n      <td>56.0600</td>\n    </tr>\n    <tr>\n      <th>2019-05-10 11:26:00</th>\n      <td>747.6100</td>\n      <td>34.6800</td>\n      <td>55.6400</td>\n    </tr>\n    <tr>\n      <th>2019-05-10 11:26:30</th>\n      <td>747.5600</td>\n      <td>34.7100</td>\n      <td>55.4400</td>\n    </tr>\n  </tbody>\n</table>\n</div>"
     },
     "metadata": {},
     "execution_count": 39
    }
   ],
   "source": [
    "lookback = 50\n",
    "horizon = 10\n",
    "window = lookback + horizon\n",
    "d = block1\n",
    "# d = block1.rolling(10).mean().dropna()   # tested for each column to remove noise with  a simple roll- mean  but didnt observe any considerable difference\n",
    "d.head()"
   ]
  },
  {
   "cell_type": "code",
   "execution_count": 40,
   "metadata": {},
   "outputs": [
    {
     "output_type": "execute_result",
     "data": {
      "text/plain": [
       "((328576, 3), (328576, 9))"
      ]
     },
     "metadata": {},
     "execution_count": 40
    }
   ],
   "source": [
    "\n",
    "d2 = block2\n",
    "# d.shape,d2.shape"
   ]
  },
  {
   "cell_type": "code",
   "execution_count": 41,
   "metadata": {},
   "outputs": [],
   "source": [
    "pwr = d['separator_pwr_kw_pv']\n",
    "dp_bar = d['mill_dp_mbar_pv']\n",
    "rpm = d['separator_speed_rpm_pv']\n",
    "size = len(d)\n",
    "test_size = int(len(d)*0.3)\n",
    "valid_size = int(len(d)*0)\n",
    "\n",
    "\n",
    "tr_pwr = pwr.iloc[:-window-test_size-valid_size]\n",
    "tr_dp_bar = dp_bar.iloc[:-window-test_size-valid_size]\n",
    "tr_rpm = rpm.iloc[:-window-test_size-valid_size]\n",
    "\n",
    "# val_pwr = pwr.iloc[-window-test_size-valid_size:-window-test_size]\n",
    "# val_dp_bar= dp_bar.iloc[-window-test_size-valid_size:-window-test_size]\n",
    "# val_rpm = rpm.iloc[-window-test_size-valid_size:-window-test_size]\n",
    "\n",
    "\n",
    "te_pwr = pwr.iloc[-window-test_size:]  # για να μην εχουμε καθολου overlap και leakage \n",
    "te_dp_bar = dp_bar.iloc[-window-test_size:]\n",
    "te_rpm = rpm.iloc[-window-test_size:]\n",
    "\n",
    "# tr_pwr.shape[0] + val_pwr.shape[0]+te_pwr.shape[0]\n",
    "# test = d.iloc[-window-lookback:]\n",
    "# train = d.iloc[:-window]\n",
    "\n",
    "# te_pwr"
   ]
  },
  {
   "cell_type": "code",
   "execution_count": 42,
   "metadata": {},
   "outputs": [],
   "source": [
    "def split_into_windows(series, lookback, horizon,window):\n",
    "\n",
    "    windows = []\n",
    "    for i in range(len(series)-lookback-horizon+1):\n",
    "        windows.append(series[i:i+lookback+horizon].values)\n",
    "   \n",
    "    arr = np.array(windows)\n",
    "\n",
    "    return arr[:, :lookback], arr[:, lookback:]"
   ]
  },
  {
   "cell_type": "code",
   "execution_count": 43,
   "metadata": {},
   "outputs": [],
   "source": [
    "x_train_pwr, y_train_pwr = split_into_windows(tr_pwr, lookback, horizon,window)\n",
    "x_train_dp_bar, y_train_dp_bar = split_into_windows(tr_dp_bar, lookback, horizon,window)\n",
    "x_train_rpm, y_train_rpm = split_into_windows(tr_rpm, lookback, horizon,window)\n",
    "\n",
    "# val_x_test_pwr, val_y_test_pwr = split_into_windows(val_pwr, lookback, horizon,window)\n",
    "# val_x_test_dp_bar, val_y_test_dp_bar = split_into_windows(val_dp_bar, lookback, horizon,window)\n",
    "# val_x_test_rpm, val_y_test_rpm = split_into_windows(val_rpm, lookback, horizon,window)\n",
    "\n",
    "x_test_pwr, y_test_pwr = split_into_windows(te_pwr, lookback, horizon,window)\n",
    "x_test_dp_bar, y_test_dp_bar = split_into_windows(te_dp_bar, lookback, horizon,window)\n",
    "x_test_rpm, y_test_rpm = split_into_windows(te_rpm, lookback, horizon,window)\n"
   ]
  },
  {
   "cell_type": "code",
   "execution_count": 44,
   "metadata": {},
   "outputs": [
    {
     "output_type": "stream",
     "name": "stdout",
     "text": [
      "(229885, 50) (229885, 50) (229885, 50)\n(229885, 10) (229885, 10) (229885, 10)\n"
     ]
    }
   ],
   "source": [
    "## unify xtrain across features\n",
    "print(x_train_pwr.shape,x_train_rpm.shape,x_train_dp_bar.shape)\n",
    "print(y_train_pwr.shape,y_train_rpm.shape,y_train_dp_bar.shape)\n",
    "\n",
    "# print(val_x_test_pwr.shape,val_x_test_rpm.shape,val_x_test_dp_bar.shape)\n",
    "# print(val_y_test_pwr.shape,val_y_test_rpm.shape,val_y_test_dp_bar.shape)"
   ]
  },
  {
   "cell_type": "code",
   "execution_count": 45,
   "metadata": {},
   "outputs": [],
   "source": [
    "# x_train_block1 = x_train_pwr + x_train_dp_bar x_train_rpm\n",
    "x_train_block1 = np.concatenate((x_train_pwr, x_train_dp_bar,x_train_rpm), axis=1)\n",
    "x_test_block1 = np.concatenate((x_test_pwr, x_test_dp_bar,x_test_rpm), axis=1)\n",
    "# val_x_test_block1 = np.concatenate((val_x_test_pwr, val_x_test_dp_bar,val_x_test_rpm),axis=1)\n",
    "# x_train_block1.shape, val_x_test_block1.shape"
   ]
  },
  {
   "cell_type": "code",
   "execution_count": 46,
   "metadata": {},
   "outputs": [],
   "source": [
    "def normalize(x):\n",
    "    mn = x.min(axis=1).reshape(-1, 1)\n",
    "    mx = x.max(axis=1).reshape(-1, 1)\n",
    "    x_sc = (x - mn) / (mx - mn) # min max scale\n",
    "    return x_sc\n",
    "\n",
    "\n",
    "x_train_block1_sc = normalize(x_train_block1)\n",
    "x_test_block1_sc = normalize(x_test_block1)\n",
    "# val_x_test_block1_sc = normalize(val_x_test_block1)\n"
   ]
  },
  {
   "source": [
    "## Validation "
   ],
   "cell_type": "markdown",
   "metadata": {}
  },
  {
   "cell_type": "code",
   "execution_count": null,
   "metadata": {},
   "outputs": [],
   "source": [
    "from sklearn.linear_model import LinearRegression, Ridge, Lasso, ElasticNet\n",
    "from sklearn.neighbors import KNeighborsRegressor\n",
    "from sklearn.metrics import mean_absolute_error,mean_squared_error\n",
    "from sklearn.model_selection import GridSearchCV\n",
    "\n",
    "# lr = LinearRegression()\n",
    "# lr.fit(x_train_block1_sc, y_train_pwr)\n",
    "# lr_preds = lr.predict(x_test_block1_sc)\n",
    "# lr_mse = mean_squared_error(y_test_pwr, lr_preds)\n",
    "# lr_mae = mean_absolute_error(y_test_pwr, lr_preds)\n",
    "\n",
    "lr = LinearRegression()\n",
    "lr.fit(x_train_block1_sc, y_train_pwr)\n",
    "lr_preds = lr.predict(val_x_test_block1_sc)\n",
    "lr_mse = mean_squared_error(val_y_test_pwr, lr_preds)\n",
    "lr_mae = mean_absolute_error(val_y_test_pwr, lr_preds)\n",
    "\n",
    "# param_grid = {\"alpha\": [0.1, 0.25, 0.5, 0.75, 1]}\n",
    "# lasso = GridSearchCV(Lasso(), param_grid)\n",
    "lasso = Lasso()\n",
    "lasso.fit(x_train_block1_sc, y_train_pwr)\n",
    "lasso_preds = lasso.predict(val_x_test_block1_sc)\n",
    "las_mse = mean_squared_error(val_y_test_pwr, lasso_preds)\n",
    "las_mae = mean_absolute_error(val_y_test_pwr, lasso_preds)\n",
    "\n",
    "# param_grid = {\"alpha\": [0.1, 0.25, 0.5, 0.75, 1, 1.2]}\n",
    "# ridge = GridSearchCV(Ridge(), param_grid)\n",
    "ridge = Ridge()\n",
    "ridge.fit(x_train_block1_sc, y_train_pwr)\n",
    "ridge_preds = ridge.predict(val_x_test_block1_sc)\n",
    "rid_mse = mean_squared_error(val_y_test_pwr, ridge_preds)\n",
    "rid_mae = mean_absolute_error(val_y_test_pwr, ridge_preds)\n",
    "\n",
    "# param_grid = {\"alpha\": [0.1, 0.25, 0.5, 0.75, 1], \"l1_ratio\": [0.2, 0.5, 0.7, 0.9]}\n",
    "# eln = GridSearchCV(ElasticNet(), param_grid)\n",
    "eln = ElasticNet()\n",
    "eln.fit(x_train_block1_sc, y_train_pwr)\n",
    "eln_preds = eln.predict(val_x_test_block1_sc)\n",
    "eln_mse = mean_squared_error(val_y_test_pwr, eln_preds)\n",
    "eln_mae = mean_absolute_error(val_y_test_pwr, eln_preds)\n",
    "\n",
    "\n",
    "print(\"Linear Models Results :\")\n",
    "\n",
    "print(\"Linear Regression: \", lr_mse, lr_mae)\n",
    "print(\"Lasso: \", las_mse, las_mae)\n",
    "print(\"Ridge: \", rid_mse, rid_mae)\n",
    "print(\"ElasticNet: \", eln_mse, eln_mae)\n"
   ]
  },
  {
   "cell_type": "code",
   "execution_count": null,
   "metadata": {},
   "outputs": [],
   "source": [
    "print(lasso.best_params_)\n",
    "print(ridge.best_params_)\n",
    "print(eln.best_params_)"
   ]
  },
  {
   "cell_type": "code",
   "execution_count": null,
   "metadata": {},
   "outputs": [],
   "source": [
    "plt.figure(figsize=(10,5))\n",
    "plt.suptitle('Vertically stacked subplots')\n",
    "\n",
    "r = 1000\n",
    "# we can check for custome time spaces with range(fr,r) and [fr:r,0 or 1 or 2 or... (desired time shift as we predict 10 values at once)]\n",
    "# r = 20000\n",
    "# fr = 19000\n",
    "# range(r)\n",
    "plt.plot(range(r), val_y_test_pwr[0:r,0],label='real',lw=1.5)\n",
    "plt.plot(range(r), lr_preds[0:r,0],label='linear',lw=1.5)\n",
    "plt.plot(range(r), lasso_preds[0:r,0],label='lasso',lw=1.5)\n",
    "plt.plot(range(r), ridge_preds[0:r,0],label='ridge',lw=1.5)\n",
    "plt.plot(range(r), eln_preds[-0:r,0],label='eln',lw=1.5)\n",
    "\n",
    "plt.legend()"
   ]
  },
  {
   "cell_type": "code",
   "execution_count": null,
   "metadata": {},
   "outputs": [],
   "source": [
    "plt.plot(val_pwr)"
   ]
  },
  {
   "cell_type": "code",
   "execution_count": null,
   "metadata": {},
   "outputs": [],
   "source": [
    "from sklearn.tree import DecisionTreeRegressor\n",
    "from sklearn.ensemble import RandomForestRegressor, GradientBoostingRegressor, StackingRegressor\n",
    "\n",
    "# param_grid = {\"max_depth\": [2, 4, 5], \"min_samples_leaf\": [1, 3, 5]}\n",
    "# dt = GridSearchCV(DecisionTreeRegressor(), param_grid)\n",
    "# dt = DecisionTreeRegressor(max_depth=4)\n",
    "dt.fit(x_train_block1_sc, y_train_pwr)\n",
    "dt_preds = dt.predict(val_x_test_block1_sc)\n",
    "dt_mse = mean_squared_error(val_y_test_pwr, dt_preds)\n",
    "dt_mae = mean_absolute_error(val_y_test_pwr, dt_preds)\n",
    "\n",
    "# param_grid = {\"n_estimators\":[2,5,8,10]}\n",
    "# rf = GridSearchCV(RandomForestRegressor(), param_grid)\n",
    "rf = RandomForestRegressor(n_estimators=5)\n",
    "rf.fit(x_train_block1_sc, y_train_pwr)\n",
    "rf_preds = rf.predict(val_x_test_block1_sc)\n",
    "rf_mse = mean_squared_error(val_y_test_pwr, rf_preds)\n",
    "rf_mae = mean_absolute_error(val_y_test_pwr, rf_preds)\n",
    "\n",
    "# gb=GradientBoostingRegressor(loss='ls',n_estimators=10)\n",
    "# gb.fit(x_train_block1, y_train_pwr)\n",
    "# gb_preds = gb.predict(x_test_block1)\n",
    "# gb_mse = mean_squared_error(y_test_pwr, gb_preds)\n",
    "# gb_mae = mean_absolute_error(y_test_pwr, gb_preds)\n",
    "\n",
    "print(\"Decision Tree: \", dt_mse, dt_mae)\n",
    "print(\"RandomForest: \", rf_mse, rf_mae)"
   ]
  },
  {
   "cell_type": "code",
   "execution_count": null,
   "metadata": {},
   "outputs": [],
   "source": [
    "plt.figure(figsize=(10,5))\n",
    "plt.suptitle('Vertically stacked subplots')\n",
    "\n",
    "r = 1000   # declare size of time we want to see predictions\n",
    "\n",
    "# we check each space  for next prediction\n",
    "plt.plot(range(r), val_y_test_pwr[0:r,0],label='real',lw=1.5)\n",
    "plt.plot(range(r), dt_preds[0:r,0],label='Decision tree',lw=1.5)\n",
    "plt.plot(range(r), rf_preds[0:r,0],label='Random Forest',lw=1.5)\n",
    "\n",
    "plt.legend()"
   ]
  },
  {
   "source": [
    "# Test Set"
   ],
   "cell_type": "markdown",
   "metadata": {}
  },
  {
   "cell_type": "code",
   "execution_count": null,
   "metadata": {},
   "outputs": [],
   "source": [
    "from sklearn.linear_model import LinearRegression, Ridge, Lasso, ElasticNet\n",
    "from sklearn.neighbors import KNeighborsRegressor\n",
    "from sklearn.metrics import mean_absolute_error,mean_squared_error\n",
    "from sklearn.model_selection import GridSearchCV\n",
    "\n",
    "\n",
    "lr = LinearRegression()\n",
    "lr.fit(x_train_block1_sc, y_train_pwr)\n",
    "lr_preds = lr.predict(x_test_block1_sc)\n",
    "lr_mse = mean_squared_error(y_test_pwr, lr_preds)\n",
    "lr_mae = mean_absolute_error(y_test_pwr, lr_preds)\n",
    "\n",
    "lasso = Lasso(alpha=0.1)\n",
    "lasso.fit(x_train_block1_sc, y_train_pwr)\n",
    "lasso_preds = lasso.predict(x_test_block1_sc)\n",
    "las_mse = mean_squared_error(y_test_pwr, lasso_preds)\n",
    "las_mae = mean_absolute_error(y_test_pwr, lasso_preds)\n",
    "\n",
    "\n",
    "ridge = Ridge(alpha=0.1)\n",
    "ridge.fit(x_train_block1_sc, y_train_pwr)\n",
    "ridge_preds = ridge.predict(x_test_block1_sc)\n",
    "rid_mse = mean_squared_error(y_test_pwr, ridge_preds)\n",
    "rid_mae = mean_absolute_error(y_test_pwr, ridge_preds)\n",
    "\n",
    "\n",
    "eln = ElasticNet(alpha=0.1,l1_ratio=0.2)# from param_grid on validation set\n",
    "eln.fit(x_train_block1_sc, y_train_pwr)\n",
    "eln_preds = eln.predict(x_test_block1_sc)\n",
    "eln_mse = mean_squared_error(y_test_pwr, eln_preds)\n",
    "eln_mae = mean_absolute_error(y_test_pwr, eln_preds)\n",
    "\n",
    "\n",
    "print(\"Linear Models Results :\")\n",
    "print(\"Linear Regression: \", lr_mse, lr_mae)\n",
    "print(\"Lasso: \", las_mse, las_mae)\n",
    "print(\"Ridge: \", rid_mse, rid_mae)\n",
    "print(\"ElasticNet: \", eln_mse, eln_mae)"
   ]
  },
  {
   "cell_type": "code",
   "execution_count": null,
   "metadata": {},
   "outputs": [],
   "source": [
    "plt.figure(figsize=(10,5))\n",
    "plt.suptitle('Linear Models')\n",
    "\n",
    "r = 20000\n",
    "fr = 19750\n",
    "\n",
    "plt.plot(range(fr,r), y_test_pwr[fr:r,0],label='Real',lw=1.5)\n",
    "plt.plot(range(fr,r), lr_preds[fr:r,0],label='Linear Regression',lw=1.5)\n",
    "plt.plot(range(fr,r), lasso_preds[fr:r,0],label='Lasso',lw=1.5)\n",
    "plt.plot(range(fr,r), ridge_preds[fr:r,0],label='Ridge',lw=1.5)\n",
    "plt.plot(range(fr,r), eln_preds[fr:r,0],label='Elastic Net',lw=1.5)\n",
    "plt.legend()\n"
   ]
  },
  {
   "cell_type": "code",
   "execution_count": null,
   "metadata": {},
   "outputs": [],
   "source": [
    "plt.figure(figsize=(10,5))\n",
    "plt.suptitle('Linear Regression')\n",
    "r = 20000\n",
    "fr = 19750\n",
    "plt.plot(range(fr,r), y_test_pwr[fr:r,0],label='Real',lw=1.5)\n",
    "plt.plot(range(fr,r), lr_preds[fr:r,0],label='Linear Regression',lw=1.5)"
   ]
  },
  {
   "cell_type": "code",
   "execution_count": null,
   "metadata": {},
   "outputs": [],
   "source": [
    "plt.figure(figsize=(10,5))\n",
    "plt.suptitle('Lasso')\n",
    "plt.plot(range(fr,r), y_test_pwr[fr:r,0],label='Real',lw=1.5)\n",
    "plt.plot(range(fr,r), lasso_preds[fr:r,0],label='Lasso',lw=1.5,color='g')\n"
   ]
  },
  {
   "cell_type": "code",
   "execution_count": null,
   "metadata": {},
   "outputs": [],
   "source": [
    "plt.figure(figsize=(10,5))\n",
    "plt.suptitle('Ridge')\n",
    "plt.plot(range(fr,r), y_test_pwr[fr:r,0],label='Real',lw=1.5)\n",
    "plt.plot(range(fr,r), ridge_preds[fr:r,0],label='Lasso',lw=1.5,color='r')"
   ]
  },
  {
   "cell_type": "code",
   "execution_count": null,
   "metadata": {},
   "outputs": [],
   "source": [
    "plt.figure(figsize=(10,5))\n",
    "plt.suptitle('ElasticNet')\n",
    "plt.plot(range(fr,r), y_test_pwr[fr:r,0],label='Real',lw=1.5)\n",
    "plt.plot(range(fr,r), eln_preds[fr:r,0],label='Lasso',lw=1.5,color='purple')"
   ]
  },
  {
   "source": [
    "## Tree Models With Sliding Window"
   ],
   "cell_type": "markdown",
   "metadata": {}
  },
  {
   "cell_type": "code",
   "execution_count": null,
   "metadata": {},
   "outputs": [],
   "source": [
    "from sklearn.tree import DecisionTreeRegressor\n",
    "from sklearn.ensemble import RandomForestRegressor, GradientBoostingRegressor, StackingRegressor\n",
    "\n",
    "dt = DecisionTreeRegressor(max_depth=2)\n",
    "dt.fit(x_train_block1_sc, y_train_pwr)\n",
    "dt_preds = dt.predict(x_test_block1_sc)\n",
    "dt_mse = mean_squared_error(y_test_pwr, dt_preds)\n",
    "dt_mae = mean_absolute_error(y_test_pwr, dt_preds)\n",
    "\n",
    "rf = RandomForestRegressor(n_estimators=5)\n",
    "rf.fit(x_train_block1_sc, y_train_pwr)\n",
    "rf_preds = rf.predict(x_test_block1_sc)\n",
    "rf_mse = mean_squared_error(y_test_pwr, rf_preds)\n",
    "rf_mae = mean_absolute_error(y_test_pwr, rf_preds)\n",
    "\n",
    "print(\"Decision Tree: \", dt_mse, dt_mae)\n",
    "print(\"RandomForest: \", rf_mse, rf_mae)"
   ]
  },
  {
   "cell_type": "code",
   "execution_count": null,
   "metadata": {},
   "outputs": [],
   "source": [
    "plt.figure(figsize=(10,5))\n",
    "plt.suptitle('Tree Models')\n",
    "\n",
    "r = 20000\n",
    "fr = 19750\n",
    "\n",
    "plt.plot(range(fr,r), y_test_pwr[fr:r,0],label='Real',lw=1.5)\n",
    "plt.plot(range(fr,r), dt_preds[fr:r,0],label='Decision Tree',lw=1.5)\n",
    "plt.plot(range(fr,r), rf_preds[fr:r,0],label='Random Forest',lw=1.5)\n",
    "# plt.plot(range(fr,to), gb_preds[-(to-fr):,0],label='Gradient Boosting',lw=1.5)\n",
    "\n",
    "plt.legend()"
   ]
  },
  {
   "cell_type": "code",
   "execution_count": null,
   "metadata": {},
   "outputs": [],
   "source": [
    "plt.figure(figsize=(10,5))\n",
    "plt.suptitle('Decision Tree')\n",
    "\n",
    "r = 20000\n",
    "fr = 19750\n",
    "\n",
    "plt.plot(range(fr,r), y_test_pwr[fr:r,0],label='Real',lw=1.5)\n",
    "plt.plot(range(fr,r), dt_preds[fr:r,0],label='Decision Tree',lw=1.5)"
   ]
  },
  {
   "cell_type": "code",
   "execution_count": null,
   "metadata": {},
   "outputs": [],
   "source": [
    "plt.figure(figsize=(10,5))\n",
    "plt.suptitle('Random Forest')\n",
    "\n",
    "r = 20000\n",
    "fr = 19750\n",
    "\n",
    "plt.plot(range(fr,r), y_test_pwr[fr:r,0],label='Real',lw=1.5)\n",
    "plt.plot(range(fr,r), rf_preds[fr:r,0],label='Random Forest',lw=1.5,color='g')"
   ]
  },
  {
   "source": [
    "## NeuralNetworks with sliding window\n"
   ],
   "cell_type": "markdown",
   "metadata": {}
  },
  {
   "cell_type": "code",
   "execution_count": 51,
   "metadata": {},
   "outputs": [],
   "source": [
    "import tensorflow as tf"
   ]
  },
  {
   "cell_type": "code",
   "execution_count": 54,
   "metadata": {},
   "outputs": [
    {
     "output_type": "execute_result",
     "data": {
      "text/plain": [
       "(229885, 150)"
      ]
     },
     "metadata": {},
     "execution_count": 54
    }
   ],
   "source": [
    "x_train_block1_sc.shape"
   ]
  },
  {
   "cell_type": "code",
   "execution_count": 53,
   "metadata": {},
   "outputs": [
    {
     "output_type": "stream",
     "name": "stdout",
     "text": [
      "Epoch 1/50\n",
      "7184/7184 [==============================] - 5s 662us/step - loss: 4.3158 - mae: 4.3158 - mse: 168.2967\n",
      "Epoch 2/50\n",
      "7184/7184 [==============================] - 5s 684us/step - loss: 0.9790 - mae: 0.9790 - mse: 2.1278\n",
      "Epoch 3/50\n",
      "7184/7184 [==============================] - 5s 680us/step - loss: 0.9142 - mae: 0.9142 - mse: 1.7576\n",
      "Epoch 4/50\n",
      "7184/7184 [==============================] - 5s 682us/step - loss: 0.8928 - mae: 0.8928 - mse: 1.6275\n",
      "Epoch 5/50\n",
      "7184/7184 [==============================] - 5s 731us/step - loss: 0.8747 - mae: 0.8747 - mse: 1.5458\n",
      "Epoch 6/50\n",
      "7184/7184 [==============================] - 5s 686us/step - loss: 0.8755 - mae: 0.8755 - mse: 1.5185\n",
      "Epoch 7/50\n",
      "7184/7184 [==============================] - 5s 654us/step - loss: 0.8697 - mae: 0.8697 - mse: 1.4874\n",
      "Epoch 8/50\n",
      "7184/7184 [==============================] - 5s 660us/step - loss: 0.8670 - mae: 0.8670 - mse: 1.4574\n",
      "Epoch 9/50\n",
      "7184/7184 [==============================] - 5s 658us/step - loss: 0.8600 - mae: 0.8600 - mse: 1.4198\n",
      "Epoch 10/50\n",
      "7184/7184 [==============================] - 5s 657us/step - loss: 0.8530 - mae: 0.8530 - mse: 1.3944\n",
      "Epoch 11/50\n",
      "7184/7184 [==============================] - 5s 654us/step - loss: 0.8470 - mae: 0.8470 - mse: 1.3614\n",
      "Epoch 12/50\n",
      "7184/7184 [==============================] - 5s 662us/step - loss: 0.8422 - mae: 0.8422 - mse: 1.3494\n",
      "Epoch 13/50\n",
      "7184/7184 [==============================] - 5s 685us/step - loss: 0.8342 - mae: 0.8342 - mse: 1.3153\n",
      "Epoch 14/50\n",
      "7184/7184 [==============================] - 5s 675us/step - loss: 0.8322 - mae: 0.8322 - mse: 1.3076\n",
      "Epoch 15/50\n",
      "7184/7184 [==============================] - 5s 673us/step - loss: 0.8288 - mae: 0.8288 - mse: 1.2874\n",
      "Epoch 16/50\n",
      "7184/7184 [==============================] - 5s 674us/step - loss: 0.8237 - mae: 0.8237 - mse: 1.2660\n",
      "Epoch 17/50\n",
      "7184/7184 [==============================] - 5s 703us/step - loss: 0.8292 - mae: 0.8292 - mse: 1.2796\n",
      "Epoch 18/50\n",
      "7184/7184 [==============================] - 5s 687us/step - loss: 0.8275 - mae: 0.8275 - mse: 1.2658\n",
      "Epoch 19/50\n",
      "7184/7184 [==============================] - 5s 685us/step - loss: 0.8248 - mae: 0.8248 - mse: 1.2647\n",
      "Epoch 20/50\n",
      "7184/7184 [==============================] - 5s 684us/step - loss: 0.8163 - mae: 0.8163 - mse: 1.2423\n",
      "Epoch 21/50\n",
      "7184/7184 [==============================] - 5s 666us/step - loss: 0.8193 - mae: 0.8193 - mse: 1.2461\n",
      "Epoch 22/50\n",
      "7184/7184 [==============================] - 5s 662us/step - loss: 0.8137 - mae: 0.8137 - mse: 1.2251\n",
      "Epoch 23/50\n",
      "7184/7184 [==============================] - 5s 672us/step - loss: 0.8146 - mae: 0.8146 - mse: 1.2272\n",
      "Epoch 24/50\n",
      "7184/7184 [==============================] - 5s 670us/step - loss: 0.8135 - mae: 0.8135 - mse: 1.2188\n",
      "Epoch 25/50\n",
      "7184/7184 [==============================] - 5s 674us/step - loss: 0.8132 - mae: 0.8132 - mse: 1.2234\n",
      "Epoch 26/50\n",
      "7184/7184 [==============================] - 5s 669us/step - loss: 0.8105 - mae: 0.8105 - mse: 1.2111\n",
      "Epoch 27/50\n",
      "7184/7184 [==============================] - 5s 669us/step - loss: 0.8133 - mae: 0.8133 - mse: 1.2171\n",
      "Epoch 28/50\n",
      "7184/7184 [==============================] - 5s 671us/step - loss: 0.8100 - mae: 0.8100 - mse: 1.2065\n",
      "Epoch 29/50\n",
      "7184/7184 [==============================] - 5s 672us/step - loss: 0.8101 - mae: 0.8101 - mse: 1.2069\n",
      "Epoch 30/50\n",
      "7184/7184 [==============================] - 5s 673us/step - loss: 0.8056 - mae: 0.8056 - mse: 1.1940\n",
      "Epoch 31/50\n",
      "7184/7184 [==============================] - 5s 677us/step - loss: 0.8119 - mae: 0.8119 - mse: 1.2020\n",
      "Epoch 32/50\n",
      "7184/7184 [==============================] - 5s 673us/step - loss: 0.8081 - mae: 0.8081 - mse: 1.1956\n",
      "Epoch 33/50\n",
      "7184/7184 [==============================] - 5s 708us/step - loss: 0.8081 - mae: 0.8081 - mse: 1.1961\n",
      "Epoch 34/50\n",
      "7184/7184 [==============================] - 5s 671us/step - loss: 0.8022 - mae: 0.8022 - mse: 1.1907\n",
      "Epoch 35/50\n",
      "7184/7184 [==============================] - 5s 663us/step - loss: 0.8026 - mae: 0.8026 - mse: 1.1849\n",
      "Epoch 36/50\n",
      "7184/7184 [==============================] - 5s 676us/step - loss: 0.8000 - mae: 0.8000 - mse: 1.1820\n",
      "Epoch 37/50\n",
      "7184/7184 [==============================] - 5s 672us/step - loss: 0.8048 - mae: 0.8048 - mse: 1.1934\n",
      "Epoch 38/50\n",
      "7184/7184 [==============================] - 5s 668us/step - loss: 0.7996 - mae: 0.7996 - mse: 1.1780\n",
      "Epoch 39/50\n",
      "7184/7184 [==============================] - 5s 677us/step - loss: 0.8015 - mae: 0.8015 - mse: 1.1871\n",
      "Epoch 40/50\n",
      "7184/7184 [==============================] - 5s 672us/step - loss: 0.8000 - mae: 0.8000 - mse: 1.1808\n",
      "Epoch 41/50\n",
      "7184/7184 [==============================] - 5s 667us/step - loss: 0.7984 - mae: 0.7984 - mse: 1.1763\n",
      "Epoch 42/50\n",
      "7184/7184 [==============================] - 5s 683us/step - loss: 0.7940 - mae: 0.7940 - mse: 1.1717\n",
      "Epoch 43/50\n",
      "7184/7184 [==============================] - 5s 671us/step - loss: 0.7931 - mae: 0.7931 - mse: 1.1659\n",
      "Epoch 44/50\n",
      "7184/7184 [==============================] - 5s 680us/step - loss: 0.7982 - mae: 0.7982 - mse: 1.1749\n",
      "Epoch 45/50\n",
      "7184/7184 [==============================] - 5s 678us/step - loss: 0.7978 - mae: 0.7978 - mse: 1.1792\n",
      "Epoch 46/50\n",
      "7184/7184 [==============================] - 5s 682us/step - loss: 0.7938 - mae: 0.7938 - mse: 1.1668\n",
      "Epoch 47/50\n",
      "7184/7184 [==============================] - 5s 706us/step - loss: 0.7971 - mae: 0.7971 - mse: 1.1679\n",
      "Epoch 48/50\n",
      "7184/7184 [==============================] - 5s 673us/step - loss: 0.8010 - mae: 0.8010 - mse: 1.1666\n",
      "Epoch 49/50\n",
      "7184/7184 [==============================] - 5s 679us/step - loss: 0.7902 - mae: 0.7902 - mse: 1.1609\n",
      "Epoch 50/50\n",
      "7184/7184 [==============================] - 5s 673us/step - loss: 0.7949 - mae: 0.7949 - mse: 1.1765\n"
     ]
    }
   ],
   "source": [
    "inp = tf.keras.layers.Input(shape=(lookback*3,))\n",
    "\n",
    "hid = tf.keras.layers.Dense(100, activation='relu')(inp)\n",
    "\n",
    "out = tf.keras.layers.Dense(horizon)(hid)\n",
    "\n",
    "\n",
    "dense1 = tf.keras.models.Model(inp, out)\n",
    "dense1.compile(loss='mae', optimizer='adam', metrics=['mae', 'mse'])\n",
    "\n",
    "h = dense1.fit(x_train_block1_sc, y_train_pwr, epochs=50)"
   ]
  },
  {
   "cell_type": "code",
   "execution_count": null,
   "metadata": {},
   "outputs": [],
   "source": [
    "_, mae, mse = dense1.evaluate(x_test_block1_sc, y_test_pwr)\n"
   ]
  },
  {
   "cell_type": "code",
   "execution_count": null,
   "metadata": {},
   "outputs": [],
   "source": [
    "nn_preds = dense1.predict(x_test_block1_sc)\n",
    "\n",
    "plt.figure(figsize=(10,5))\n",
    "plt.suptitle('Neural Network')\n",
    "\n",
    "r = 20000\n",
    "fr = 19750\n",
    "\n",
    "plt.plot(range(fr,r), y_test_pwr[fr:r,0],label='real',lw=1.5)\n",
    "plt.plot(range(fr,r), nn_preds[fr:r,0],label='neural',lw=1.5)\n",
    "\n",
    "plt.legend()"
   ]
  },
  {
   "source": [
    "### Exponential"
   ],
   "cell_type": "markdown",
   "metadata": {}
  },
  {
   "cell_type": "code",
   "execution_count": null,
   "metadata": {},
   "outputs": [],
   "source": [
    "from sktime.forecasting.all import ForecastingHorizon, NaiveForecaster, temporal_train_test_split\n",
    "from sktime.utils.plotting import plot_series\n",
    "from sktime.forecasting.all import ExponentialSmoothing\n",
    "\n",
    "y_train, y_test = temporal_train_test_split(pwr.to_period('10T'), test_size=250)\n",
    "y_train_rpm, y_test_rpm = temporal_train_test_split(rpm.to_period('10T'), test_size=250)\n",
    "y_train_bar, y_test_bar = temporal_train_test_split(pwr.to_period('10T'), test_size=250)\n",
    "print(type(y_train))\n",
    "y_train = y_train_bar.append(y_test_rpm.append(y_test))\n",
    "# plot_series(y_train[-250:-1], y_test, labels=[\"y_train\", \"y_test\"])\n",
    "print(y_train.shape[0], y_test.shape[0])\n",
    "\n",
    "\n",
    "fh = ForecastingHorizon(y_test.index, is_relative=False)\n",
    "fh\n",
    "\n",
    "naive = NaiveForecaster(strategy='mean', window_length=window)\n",
    "naive.fit(y_train[-250:-1])\n",
    "naive_preds = naive.predict(fh)\n",
    "print(\"shape of preds and test \", y_test.shape,naive_preds.shape)\n",
    "plt.plot(y_test.values)\n",
    "\n",
    "\n",
    "# plt.plot(naive_preds.values,color='r')\n",
    "# plot_series( y_test, naive_preds, labels=['train', 'test', 'pred'])"
   ]
  },
  {
   "cell_type": "code",
   "execution_count": null,
   "metadata": {},
   "outputs": [],
   "source": [
    "plt.plot(naive_preds.values,color='r')"
   ]
  },
  {
   "cell_type": "code",
   "execution_count": null,
   "metadata": {},
   "outputs": [],
   "source": [
    "plt.plot(es_preds.values,color='r')"
   ]
  },
  {
   "cell_type": "code",
   "execution_count": null,
   "metadata": {},
   "outputs": [],
   "source": [
    "\n",
    "###   we tried exponential but we figured that it needs manual coding to fix inconsistency with time gaps and we didnt push any further\n",
    "###\n",
    "from sktime.forecasting.all import ExponentialSmoothing  #\n",
    "a = block1.copy()\n",
    "a.reshape('30S').interpolate(method='mean')\n",
    "print(a.shape)\n",
    "# y_train2, y_test2= temporal_train_test_split(pwr.to_period('T'), test_size=250)\n",
    "# y_train_rpm2, y_test_rpm2 = temporal_train_test_split(rpm.to_period('10T'), test_size=250)\n",
    "# y_train_bar2, y_test_bar2 = temporal_train_test_split(pwr.to_period('10T'), test_size=250)\n",
    "\n",
    "# y_train = y_train_bar2.append(y_test_rpm2.append(y_test2))\n",
    "# # plot_series(y_train2[-250:-1], y_test2, labels=[\"y_train\", \"y_test\"])\n",
    "\n",
    "# fh = ForecastingHorizon(y_test2.index[:], is_relative=False)\n",
    "# fh\n",
    "\n",
    "# es = ExponentialSmoothing(trend='add', seasonal='mul', sp=12)\n",
    "# es.fit(y_train2[-250:-1])\n",
    "# es_preds = es.predict(fh)\n",
    "# plot_series(y_train2[-250:-1], y_test2, es_preds, labels=['train', 'test', 'pred'])"
   ]
  },
  {
   "cell_type": "code",
   "execution_count": null,
   "metadata": {},
   "outputs": [],
   "source": [
    "from sktime.forecasting.all import SlidingWindowSplitter\n",
    "import numpy as np\n",
    "\n",
    "cv = SlidingWindowSplitter(fh=np.arange(1, 13))\n",
    "\n",
    "y_pred = naive.update_predict(y_test, cv)"
   ]
  },
  {
   "cell_type": "code",
   "execution_count": 47,
   "metadata": {},
   "outputs": [
    {
     "output_type": "stream",
     "name": "stdout",
     "text": [
      "Kneighbors:  3.9717152700192733 1.5053982432117299\n"
     ]
    }
   ],
   "source": [
    "from sklearn.neighbors import KNeighborsRegressor\n",
    "from sklearn.metrics import mean_absolute_error, mean_squared_error\n",
    "\n",
    "\n",
    "param_grid={'n_neighbors':[3,5,7,11],'weights':['uniform','distance']}\n",
    "\n",
    "# knn = GridSearchCV(KNeighborsRegressor(),param_grid,verbose=1)\n",
    "knn = KNeighborsRegressor(n_neighbors=5)\n",
    "knn.fit(x_train_block1_sc,y_train_pwr)\n",
    "knn_preds = knn.predict(x_test_block1_sc)\n",
    "knn_mse = mean_squared_error(y_test_pwr, knn_preds)\n",
    "knn_mae = mean_absolute_error(y_test_pwr, knn_preds)\n",
    "\n",
    "print(\"Kneighbors: \", knn_mse, knn_mae)"
   ]
  },
  {
   "cell_type": "code",
   "execution_count": 49,
   "metadata": {},
   "outputs": [
    {
     "output_type": "execute_result",
     "data": {
      "text/plain": [
       "<matplotlib.legend.Legend at 0x20400156df0>"
      ]
     },
     "metadata": {},
     "execution_count": 49
    },
    {
     "output_type": "display_data",
     "data": {
      "text/plain": "<Figure size 720x360 with 1 Axes>",
      "image/svg+xml": "<?xml version=\"1.0\" encoding=\"utf-8\" standalone=\"no\"?>\r\n<!DOCTYPE svg PUBLIC \"-//W3C//DTD SVG 1.1//EN\"\r\n  \"http://www.w3.org/Graphics/SVG/1.1/DTD/svg11.dtd\">\r\n<!-- Created with matplotlib (https://matplotlib.org/) -->\r\n<svg height=\"338.878125pt\" version=\"1.1\" viewBox=\"0 0 592.125 338.878125\" width=\"592.125pt\" xmlns=\"http://www.w3.org/2000/svg\" xmlns:xlink=\"http://www.w3.org/1999/xlink\">\r\n <metadata>\r\n  <rdf:RDF xmlns:cc=\"http://creativecommons.org/ns#\" xmlns:dc=\"http://purl.org/dc/elements/1.1/\" xmlns:rdf=\"http://www.w3.org/1999/02/22-rdf-syntax-ns#\">\r\n   <cc:Work>\r\n    <dc:type rdf:resource=\"http://purl.org/dc/dcmitype/StillImage\"/>\r\n    <dc:date>2021-01-29T17:48:09.715647</dc:date>\r\n    <dc:format>image/svg+xml</dc:format>\r\n    <dc:creator>\r\n     <cc:Agent>\r\n      <dc:title>Matplotlib v3.3.3, https://matplotlib.org/</dc:title>\r\n     </cc:Agent>\r\n    </dc:creator>\r\n   </cc:Work>\r\n  </rdf:RDF>\r\n </metadata>\r\n <defs>\r\n  <style type=\"text/css\">*{stroke-linecap:butt;stroke-linejoin:round;}</style>\r\n </defs>\r\n <g id=\"figure_1\">\r\n  <g id=\"patch_1\">\r\n   <path d=\"M 0 338.878125 \r\nL 592.125 338.878125 \r\nL 592.125 0 \r\nL 0 0 \r\nz\r\n\" style=\"fill:none;\"/>\r\n  </g>\r\n  <g id=\"axes_1\">\r\n   <g id=\"patch_2\">\r\n    <path d=\"M 26.925 315 \r\nL 584.925 315 \r\nL 584.925 43.2 \r\nL 26.925 43.2 \r\nz\r\n\" style=\"fill:#ffffff;\"/>\r\n   </g>\r\n   <g id=\"matplotlib.axis_1\">\r\n    <g id=\"xtick_1\">\r\n     <g id=\"line2d_1\">\r\n      <defs>\r\n       <path d=\"M 0 0 \r\nL 0 3.5 \r\n\" id=\"mc271e009c9\" style=\"stroke:#000000;stroke-width:0.8;\"/>\r\n      </defs>\r\n      <g>\r\n       <use style=\"stroke:#000000;stroke-width:0.8;\" x=\"52.288636\" xlink:href=\"#mc271e009c9\" y=\"315\"/>\r\n      </g>\r\n     </g>\r\n     <g id=\"text_1\">\r\n      <!-- 19750 -->\r\n      <g transform=\"translate(36.382386 329.598437)scale(0.1 -0.1)\">\r\n       <defs>\r\n        <path d=\"M 12.40625 8.296875 \r\nL 28.515625 8.296875 \r\nL 28.515625 63.921875 \r\nL 10.984375 60.40625 \r\nL 10.984375 69.390625 \r\nL 28.421875 72.90625 \r\nL 38.28125 72.90625 \r\nL 38.28125 8.296875 \r\nL 54.390625 8.296875 \r\nL 54.390625 0 \r\nL 12.40625 0 \r\nz\r\n\" id=\"DejaVuSans-49\"/>\r\n        <path d=\"M 10.984375 1.515625 \r\nL 10.984375 10.5 \r\nQ 14.703125 8.734375 18.5 7.8125 \r\nQ 22.3125 6.890625 25.984375 6.890625 \r\nQ 35.75 6.890625 40.890625 13.453125 \r\nQ 46.046875 20.015625 46.78125 33.40625 \r\nQ 43.953125 29.203125 39.59375 26.953125 \r\nQ 35.25 24.703125 29.984375 24.703125 \r\nQ 19.046875 24.703125 12.671875 31.3125 \r\nQ 6.296875 37.9375 6.296875 49.421875 \r\nQ 6.296875 60.640625 12.9375 67.421875 \r\nQ 19.578125 74.21875 30.609375 74.21875 \r\nQ 43.265625 74.21875 49.921875 64.515625 \r\nQ 56.59375 54.828125 56.59375 36.375 \r\nQ 56.59375 19.140625 48.40625 8.859375 \r\nQ 40.234375 -1.421875 26.421875 -1.421875 \r\nQ 22.703125 -1.421875 18.890625 -0.6875 \r\nQ 15.09375 0.046875 10.984375 1.515625 \r\nz\r\nM 30.609375 32.421875 \r\nQ 37.25 32.421875 41.125 36.953125 \r\nQ 45.015625 41.5 45.015625 49.421875 \r\nQ 45.015625 57.28125 41.125 61.84375 \r\nQ 37.25 66.40625 30.609375 66.40625 \r\nQ 23.96875 66.40625 20.09375 61.84375 \r\nQ 16.21875 57.28125 16.21875 49.421875 \r\nQ 16.21875 41.5 20.09375 36.953125 \r\nQ 23.96875 32.421875 30.609375 32.421875 \r\nz\r\n\" id=\"DejaVuSans-57\"/>\r\n        <path d=\"M 8.203125 72.90625 \r\nL 55.078125 72.90625 \r\nL 55.078125 68.703125 \r\nL 28.609375 0 \r\nL 18.3125 0 \r\nL 43.21875 64.59375 \r\nL 8.203125 64.59375 \r\nz\r\n\" id=\"DejaVuSans-55\"/>\r\n        <path d=\"M 10.796875 72.90625 \r\nL 49.515625 72.90625 \r\nL 49.515625 64.59375 \r\nL 19.828125 64.59375 \r\nL 19.828125 46.734375 \r\nQ 21.96875 47.46875 24.109375 47.828125 \r\nQ 26.265625 48.1875 28.421875 48.1875 \r\nQ 40.625 48.1875 47.75 41.5 \r\nQ 54.890625 34.8125 54.890625 23.390625 \r\nQ 54.890625 11.625 47.5625 5.09375 \r\nQ 40.234375 -1.421875 26.90625 -1.421875 \r\nQ 22.3125 -1.421875 17.546875 -0.640625 \r\nQ 12.796875 0.140625 7.71875 1.703125 \r\nL 7.71875 11.625 \r\nQ 12.109375 9.234375 16.796875 8.0625 \r\nQ 21.484375 6.890625 26.703125 6.890625 \r\nQ 35.15625 6.890625 40.078125 11.328125 \r\nQ 45.015625 15.765625 45.015625 23.390625 \r\nQ 45.015625 31 40.078125 35.4375 \r\nQ 35.15625 39.890625 26.703125 39.890625 \r\nQ 22.75 39.890625 18.8125 39.015625 \r\nQ 14.890625 38.140625 10.796875 36.28125 \r\nz\r\n\" id=\"DejaVuSans-53\"/>\r\n        <path d=\"M 31.78125 66.40625 \r\nQ 24.171875 66.40625 20.328125 58.90625 \r\nQ 16.5 51.421875 16.5 36.375 \r\nQ 16.5 21.390625 20.328125 13.890625 \r\nQ 24.171875 6.390625 31.78125 6.390625 \r\nQ 39.453125 6.390625 43.28125 13.890625 \r\nQ 47.125 21.390625 47.125 36.375 \r\nQ 47.125 51.421875 43.28125 58.90625 \r\nQ 39.453125 66.40625 31.78125 66.40625 \r\nz\r\nM 31.78125 74.21875 \r\nQ 44.046875 74.21875 50.515625 64.515625 \r\nQ 56.984375 54.828125 56.984375 36.375 \r\nQ 56.984375 17.96875 50.515625 8.265625 \r\nQ 44.046875 -1.421875 31.78125 -1.421875 \r\nQ 19.53125 -1.421875 13.0625 8.265625 \r\nQ 6.59375 17.96875 6.59375 36.375 \r\nQ 6.59375 54.828125 13.0625 64.515625 \r\nQ 19.53125 74.21875 31.78125 74.21875 \r\nz\r\n\" id=\"DejaVuSans-48\"/>\r\n       </defs>\r\n       <use xlink:href=\"#DejaVuSans-49\"/>\r\n       <use x=\"63.623047\" xlink:href=\"#DejaVuSans-57\"/>\r\n       <use x=\"127.246094\" xlink:href=\"#DejaVuSans-55\"/>\r\n       <use x=\"190.869141\" xlink:href=\"#DejaVuSans-53\"/>\r\n       <use x=\"254.492188\" xlink:href=\"#DejaVuSans-48\"/>\r\n      </g>\r\n     </g>\r\n    </g>\r\n    <g id=\"xtick_2\">\r\n     <g id=\"line2d_2\">\r\n      <g>\r\n       <use style=\"stroke:#000000;stroke-width:0.8;\" x=\"154.15063\" xlink:href=\"#mc271e009c9\" y=\"315\"/>\r\n      </g>\r\n     </g>\r\n     <g id=\"text_2\">\r\n      <!-- 19800 -->\r\n      <g transform=\"translate(138.24438 329.598437)scale(0.1 -0.1)\">\r\n       <defs>\r\n        <path d=\"M 31.78125 34.625 \r\nQ 24.75 34.625 20.71875 30.859375 \r\nQ 16.703125 27.09375 16.703125 20.515625 \r\nQ 16.703125 13.921875 20.71875 10.15625 \r\nQ 24.75 6.390625 31.78125 6.390625 \r\nQ 38.8125 6.390625 42.859375 10.171875 \r\nQ 46.921875 13.96875 46.921875 20.515625 \r\nQ 46.921875 27.09375 42.890625 30.859375 \r\nQ 38.875 34.625 31.78125 34.625 \r\nz\r\nM 21.921875 38.8125 \r\nQ 15.578125 40.375 12.03125 44.71875 \r\nQ 8.5 49.078125 8.5 55.328125 \r\nQ 8.5 64.0625 14.71875 69.140625 \r\nQ 20.953125 74.21875 31.78125 74.21875 \r\nQ 42.671875 74.21875 48.875 69.140625 \r\nQ 55.078125 64.0625 55.078125 55.328125 \r\nQ 55.078125 49.078125 51.53125 44.71875 \r\nQ 48 40.375 41.703125 38.8125 \r\nQ 48.828125 37.15625 52.796875 32.3125 \r\nQ 56.78125 27.484375 56.78125 20.515625 \r\nQ 56.78125 9.90625 50.3125 4.234375 \r\nQ 43.84375 -1.421875 31.78125 -1.421875 \r\nQ 19.734375 -1.421875 13.25 4.234375 \r\nQ 6.78125 9.90625 6.78125 20.515625 \r\nQ 6.78125 27.484375 10.78125 32.3125 \r\nQ 14.796875 37.15625 21.921875 38.8125 \r\nz\r\nM 18.3125 54.390625 \r\nQ 18.3125 48.734375 21.84375 45.5625 \r\nQ 25.390625 42.390625 31.78125 42.390625 \r\nQ 38.140625 42.390625 41.71875 45.5625 \r\nQ 45.3125 48.734375 45.3125 54.390625 \r\nQ 45.3125 60.0625 41.71875 63.234375 \r\nQ 38.140625 66.40625 31.78125 66.40625 \r\nQ 25.390625 66.40625 21.84375 63.234375 \r\nQ 18.3125 60.0625 18.3125 54.390625 \r\nz\r\n\" id=\"DejaVuSans-56\"/>\r\n       </defs>\r\n       <use xlink:href=\"#DejaVuSans-49\"/>\r\n       <use x=\"63.623047\" xlink:href=\"#DejaVuSans-57\"/>\r\n       <use x=\"127.246094\" xlink:href=\"#DejaVuSans-56\"/>\r\n       <use x=\"190.869141\" xlink:href=\"#DejaVuSans-48\"/>\r\n       <use x=\"254.492188\" xlink:href=\"#DejaVuSans-48\"/>\r\n      </g>\r\n     </g>\r\n    </g>\r\n    <g id=\"xtick_3\">\r\n     <g id=\"line2d_3\">\r\n      <g>\r\n       <use style=\"stroke:#000000;stroke-width:0.8;\" x=\"256.012623\" xlink:href=\"#mc271e009c9\" y=\"315\"/>\r\n      </g>\r\n     </g>\r\n     <g id=\"text_3\">\r\n      <!-- 19850 -->\r\n      <g transform=\"translate(240.106373 329.598437)scale(0.1 -0.1)\">\r\n       <use xlink:href=\"#DejaVuSans-49\"/>\r\n       <use x=\"63.623047\" xlink:href=\"#DejaVuSans-57\"/>\r\n       <use x=\"127.246094\" xlink:href=\"#DejaVuSans-56\"/>\r\n       <use x=\"190.869141\" xlink:href=\"#DejaVuSans-53\"/>\r\n       <use x=\"254.492188\" xlink:href=\"#DejaVuSans-48\"/>\r\n      </g>\r\n     </g>\r\n    </g>\r\n    <g id=\"xtick_4\">\r\n     <g id=\"line2d_4\">\r\n      <g>\r\n       <use style=\"stroke:#000000;stroke-width:0.8;\" x=\"357.874617\" xlink:href=\"#mc271e009c9\" y=\"315\"/>\r\n      </g>\r\n     </g>\r\n     <g id=\"text_4\">\r\n      <!-- 19900 -->\r\n      <g transform=\"translate(341.968367 329.598437)scale(0.1 -0.1)\">\r\n       <use xlink:href=\"#DejaVuSans-49\"/>\r\n       <use x=\"63.623047\" xlink:href=\"#DejaVuSans-57\"/>\r\n       <use x=\"127.246094\" xlink:href=\"#DejaVuSans-57\"/>\r\n       <use x=\"190.869141\" xlink:href=\"#DejaVuSans-48\"/>\r\n       <use x=\"254.492188\" xlink:href=\"#DejaVuSans-48\"/>\r\n      </g>\r\n     </g>\r\n    </g>\r\n    <g id=\"xtick_5\">\r\n     <g id=\"line2d_5\">\r\n      <g>\r\n       <use style=\"stroke:#000000;stroke-width:0.8;\" x=\"459.73661\" xlink:href=\"#mc271e009c9\" y=\"315\"/>\r\n      </g>\r\n     </g>\r\n     <g id=\"text_5\">\r\n      <!-- 19950 -->\r\n      <g transform=\"translate(443.83036 329.598437)scale(0.1 -0.1)\">\r\n       <use xlink:href=\"#DejaVuSans-49\"/>\r\n       <use x=\"63.623047\" xlink:href=\"#DejaVuSans-57\"/>\r\n       <use x=\"127.246094\" xlink:href=\"#DejaVuSans-57\"/>\r\n       <use x=\"190.869141\" xlink:href=\"#DejaVuSans-53\"/>\r\n       <use x=\"254.492188\" xlink:href=\"#DejaVuSans-48\"/>\r\n      </g>\r\n     </g>\r\n    </g>\r\n    <g id=\"xtick_6\">\r\n     <g id=\"line2d_6\">\r\n      <g>\r\n       <use style=\"stroke:#000000;stroke-width:0.8;\" x=\"561.598604\" xlink:href=\"#mc271e009c9\" y=\"315\"/>\r\n      </g>\r\n     </g>\r\n     <g id=\"text_6\">\r\n      <!-- 20000 -->\r\n      <g transform=\"translate(545.692354 329.598437)scale(0.1 -0.1)\">\r\n       <defs>\r\n        <path d=\"M 19.1875 8.296875 \r\nL 53.609375 8.296875 \r\nL 53.609375 0 \r\nL 7.328125 0 \r\nL 7.328125 8.296875 \r\nQ 12.9375 14.109375 22.625 23.890625 \r\nQ 32.328125 33.6875 34.8125 36.53125 \r\nQ 39.546875 41.84375 41.421875 45.53125 \r\nQ 43.3125 49.21875 43.3125 52.78125 \r\nQ 43.3125 58.59375 39.234375 62.25 \r\nQ 35.15625 65.921875 28.609375 65.921875 \r\nQ 23.96875 65.921875 18.8125 64.3125 \r\nQ 13.671875 62.703125 7.8125 59.421875 \r\nL 7.8125 69.390625 \r\nQ 13.765625 71.78125 18.9375 73 \r\nQ 24.125 74.21875 28.421875 74.21875 \r\nQ 39.75 74.21875 46.484375 68.546875 \r\nQ 53.21875 62.890625 53.21875 53.421875 \r\nQ 53.21875 48.921875 51.53125 44.890625 \r\nQ 49.859375 40.875 45.40625 35.40625 \r\nQ 44.1875 33.984375 37.640625 27.21875 \r\nQ 31.109375 20.453125 19.1875 8.296875 \r\nz\r\n\" id=\"DejaVuSans-50\"/>\r\n       </defs>\r\n       <use xlink:href=\"#DejaVuSans-50\"/>\r\n       <use x=\"63.623047\" xlink:href=\"#DejaVuSans-48\"/>\r\n       <use x=\"127.246094\" xlink:href=\"#DejaVuSans-48\"/>\r\n       <use x=\"190.869141\" xlink:href=\"#DejaVuSans-48\"/>\r\n       <use x=\"254.492188\" xlink:href=\"#DejaVuSans-48\"/>\r\n      </g>\r\n     </g>\r\n    </g>\r\n   </g>\r\n   <g id=\"matplotlib.axis_2\">\r\n    <g id=\"ytick_1\">\r\n     <g id=\"line2d_7\">\r\n      <defs>\r\n       <path d=\"M 0 0 \r\nL -3.5 0 \r\n\" id=\"m9834f57ec8\" style=\"stroke:#000000;stroke-width:0.8;\"/>\r\n      </defs>\r\n      <g>\r\n       <use style=\"stroke:#000000;stroke-width:0.8;\" x=\"26.925\" xlink:href=\"#m9834f57ec8\" y=\"309.412906\"/>\r\n      </g>\r\n     </g>\r\n     <g id=\"text_7\">\r\n      <!-- 55 -->\r\n      <g transform=\"translate(7.2 313.212125)scale(0.1 -0.1)\">\r\n       <use xlink:href=\"#DejaVuSans-53\"/>\r\n       <use x=\"63.623047\" xlink:href=\"#DejaVuSans-53\"/>\r\n      </g>\r\n     </g>\r\n    </g>\r\n    <g id=\"ytick_2\">\r\n     <g id=\"line2d_8\">\r\n      <g>\r\n       <use style=\"stroke:#000000;stroke-width:0.8;\" x=\"26.925\" xlink:href=\"#m9834f57ec8\" y=\"262.051271\"/>\r\n      </g>\r\n     </g>\r\n     <g id=\"text_8\">\r\n      <!-- 56 -->\r\n      <g transform=\"translate(7.2 265.85049)scale(0.1 -0.1)\">\r\n       <defs>\r\n        <path d=\"M 33.015625 40.375 \r\nQ 26.375 40.375 22.484375 35.828125 \r\nQ 18.609375 31.296875 18.609375 23.390625 \r\nQ 18.609375 15.53125 22.484375 10.953125 \r\nQ 26.375 6.390625 33.015625 6.390625 \r\nQ 39.65625 6.390625 43.53125 10.953125 \r\nQ 47.40625 15.53125 47.40625 23.390625 \r\nQ 47.40625 31.296875 43.53125 35.828125 \r\nQ 39.65625 40.375 33.015625 40.375 \r\nz\r\nM 52.59375 71.296875 \r\nL 52.59375 62.3125 \r\nQ 48.875 64.0625 45.09375 64.984375 \r\nQ 41.3125 65.921875 37.59375 65.921875 \r\nQ 27.828125 65.921875 22.671875 59.328125 \r\nQ 17.53125 52.734375 16.796875 39.40625 \r\nQ 19.671875 43.65625 24.015625 45.921875 \r\nQ 28.375 48.1875 33.59375 48.1875 \r\nQ 44.578125 48.1875 50.953125 41.515625 \r\nQ 57.328125 34.859375 57.328125 23.390625 \r\nQ 57.328125 12.15625 50.6875 5.359375 \r\nQ 44.046875 -1.421875 33.015625 -1.421875 \r\nQ 20.359375 -1.421875 13.671875 8.265625 \r\nQ 6.984375 17.96875 6.984375 36.375 \r\nQ 6.984375 53.65625 15.1875 63.9375 \r\nQ 23.390625 74.21875 37.203125 74.21875 \r\nQ 40.921875 74.21875 44.703125 73.484375 \r\nQ 48.484375 72.75 52.59375 71.296875 \r\nz\r\n\" id=\"DejaVuSans-54\"/>\r\n       </defs>\r\n       <use xlink:href=\"#DejaVuSans-53\"/>\r\n       <use x=\"63.623047\" xlink:href=\"#DejaVuSans-54\"/>\r\n      </g>\r\n     </g>\r\n    </g>\r\n    <g id=\"ytick_3\">\r\n     <g id=\"line2d_9\">\r\n      <g>\r\n       <use style=\"stroke:#000000;stroke-width:0.8;\" x=\"26.925\" xlink:href=\"#m9834f57ec8\" y=\"214.689637\"/>\r\n      </g>\r\n     </g>\r\n     <g id=\"text_9\">\r\n      <!-- 57 -->\r\n      <g transform=\"translate(7.2 218.488856)scale(0.1 -0.1)\">\r\n       <use xlink:href=\"#DejaVuSans-53\"/>\r\n       <use x=\"63.623047\" xlink:href=\"#DejaVuSans-55\"/>\r\n      </g>\r\n     </g>\r\n    </g>\r\n    <g id=\"ytick_4\">\r\n     <g id=\"line2d_10\">\r\n      <g>\r\n       <use style=\"stroke:#000000;stroke-width:0.8;\" x=\"26.925\" xlink:href=\"#m9834f57ec8\" y=\"167.328003\"/>\r\n      </g>\r\n     </g>\r\n     <g id=\"text_10\">\r\n      <!-- 58 -->\r\n      <g transform=\"translate(7.2 171.127221)scale(0.1 -0.1)\">\r\n       <use xlink:href=\"#DejaVuSans-53\"/>\r\n       <use x=\"63.623047\" xlink:href=\"#DejaVuSans-56\"/>\r\n      </g>\r\n     </g>\r\n    </g>\r\n    <g id=\"ytick_5\">\r\n     <g id=\"line2d_11\">\r\n      <g>\r\n       <use style=\"stroke:#000000;stroke-width:0.8;\" x=\"26.925\" xlink:href=\"#m9834f57ec8\" y=\"119.966368\"/>\r\n      </g>\r\n     </g>\r\n     <g id=\"text_11\">\r\n      <!-- 59 -->\r\n      <g transform=\"translate(7.2 123.765587)scale(0.1 -0.1)\">\r\n       <use xlink:href=\"#DejaVuSans-53\"/>\r\n       <use x=\"63.623047\" xlink:href=\"#DejaVuSans-57\"/>\r\n      </g>\r\n     </g>\r\n    </g>\r\n    <g id=\"ytick_6\">\r\n     <g id=\"line2d_12\">\r\n      <g>\r\n       <use style=\"stroke:#000000;stroke-width:0.8;\" x=\"26.925\" xlink:href=\"#m9834f57ec8\" y=\"72.604734\"/>\r\n      </g>\r\n     </g>\r\n     <g id=\"text_12\">\r\n      <!-- 60 -->\r\n      <g transform=\"translate(7.2 76.403953)scale(0.1 -0.1)\">\r\n       <use xlink:href=\"#DejaVuSans-54\"/>\r\n       <use x=\"63.623047\" xlink:href=\"#DejaVuSans-48\"/>\r\n      </g>\r\n     </g>\r\n    </g>\r\n   </g>\r\n   <g id=\"line2d_13\">\r\n    <path clip-path=\"url(#pe9284cc25e)\" d=\"M 52.288636 170.643317 \r\nL 54.325876 223.688348 \r\nL 56.363116 199.060298 \r\nL 58.400356 192.903285 \r\nL 60.437596 211.847939 \r\nL 62.474836 182.483726 \r\nL 64.512076 213.742404 \r\nL 66.549315 212.795172 \r\nL 68.586555 189.587971 \r\nL 70.623795 226.530046 \r\nL 72.661035 205.690927 \r\nL 74.698275 193.850518 \r\nL 76.735515 230.318976 \r\nL 78.772755 196.692216 \r\nL 80.809995 202.849228 \r\nL 82.847234 214.689637 \r\nL 84.884474 225.109197 \r\nL 86.921714 190.061587 \r\nL 88.958954 219.899417 \r\nL 90.996194 244.527467 \r\nL 93.033434 214.689637 \r\nL 95.070674 192.429669 \r\nL 97.107913 223.214731 \r\nL 99.145153 224.63558 \r\nL 101.182393 212.795172 \r\nL 103.219633 197.639449 \r\nL 105.256873 225.582813 \r\nL 107.294113 223.688348 \r\nL 109.331353 195.744983 \r\nL 111.368593 217.531335 \r\nL 113.405832 228.424511 \r\nL 115.443072 229.84536 \r\nL 117.480312 201.901996 \r\nL 119.517552 224.161964 \r\nL 121.554792 225.109197 \r\nL 123.592032 234.581524 \r\nL 125.629272 196.692216 \r\nL 127.666512 208.059008 \r\nL 129.703751 241.212152 \r\nL 131.740991 201.901996 \r\nL 133.778231 205.690927 \r\nL 135.815471 244.527467 \r\nL 137.852711 225.582813 \r\nL 139.889951 192.903285 \r\nL 141.927191 209.479857 \r\nL 143.96443 231.739825 \r\nL 146.00167 220.373033 \r\nL 148.03891 195.271367 \r\nL 150.07615 223.688348 \r\nL 152.11339 224.161964 \r\nL 154.15063 197.639449 \r\nL 156.18787 197.639449 \r\nL 158.22511 235.05514 \r\nL 160.262349 203.796461 \r\nL 162.299589 193.376902 \r\nL 164.336829 219.899417 \r\nL 166.374069 214.689637 \r\nL 168.411309 192.429669 \r\nL 170.448549 225.109197 \r\nL 172.485789 208.532625 \r\nL 174.523028 193.376902 \r\nL 176.560268 212.321555 \r\nL 178.597508 222.741115 \r\nL 180.634748 207.585392 \r\nL 182.671988 204.743694 \r\nL 184.709228 229.84536 \r\nL 186.746468 201.901996 \r\nL 188.783708 197.639449 \r\nL 190.820947 222.741115 \r\nL 192.858187 218.004951 \r\nL 194.895427 192.429669 \r\nL 196.932667 210.42709 \r\nL 198.969907 217.531335 \r\nL 201.007147 191.482436 \r\nL 203.044387 201.901996 \r\nL 205.081627 235.528756 \r\nL 207.118866 192.903285 \r\nL 209.156106 195.271367 \r\nL 211.193346 223.214731 \r\nL 213.230586 213.268788 \r\nL 215.267826 192.429669 \r\nL 217.305066 223.214731 \r\nL 219.342306 234.581524 \r\nL 221.379545 193.850518 \r\nL 223.416785 202.849228 \r\nL 225.454025 230.792593 \r\nL 280.459502 291.889101 \r\nL 282.496742 55.554545 \r\nL 284.533981 292.836334 \r\nL 288.608461 282.416774 \r\nL 290.645701 259.68319 \r\nL 292.682941 277.206994 \r\nL 294.720181 219.899417 \r\nL 296.757421 275.786145 \r\nL 298.79466 266.313819 \r\nL 300.8319 265.366586 \r\nL 302.86914 271.049982 \r\nL 304.90638 262.998504 \r\nL 306.94362 250.210863 \r\nL 311.0181 257.315108 \r\nL 313.05534 239.317687 \r\nL 315.092579 235.528756 \r\nL 317.129819 239.317687 \r\nL 319.167059 244.05385 \r\nL 321.204299 141.75272 \r\nL 323.241539 245.948316 \r\nL 325.278779 226.056429 \r\nL 327.316019 211.374323 \r\nL 329.353258 220.84665 \r\nL 331.390498 240.738536 \r\nL 333.427738 220.373033 \r\nL 335.464978 214.216021 \r\nL 337.502218 214.216021 \r\nL 339.539458 239.791303 \r\nL 341.576698 226.056429 \r\nL 343.613938 202.375612 \r\nL 345.651177 194.797751 \r\nL 347.688417 223.688348 \r\nL 349.725657 235.528756 \r\nL 351.762897 213.268788 \r\nL 353.800137 194.797751 \r\nL 355.837377 239.317687 \r\nL 357.874617 204.270077 \r\nL 359.911857 192.903285 \r\nL 361.949096 214.689637 \r\nL 363.986336 183.904575 \r\nL 366.023576 206.164543 \r\nL 368.060816 202.849228 \r\nL 370.098056 182.483726 \r\nL 372.135296 218.478568 \r\nL 374.172536 190.061587 \r\nL 376.209775 194.797751 \r\nL 378.247015 213.742404 \r\nL 380.284255 186.272656 \r\nL 382.321495 205.690927 \r\nL 384.358735 208.059008 \r\nL 386.395975 188.167122 \r\nL 388.433215 205.21731 \r\nL 390.470455 208.532625 \r\nL 392.507694 188.167122 \r\nL 394.544934 221.320266 \r\nL 396.582174 208.532625 \r\nL 398.619414 180.58926 \r\nL 400.656654 213.742404 \r\nL 402.693894 202.375612 \r\nL 404.731134 182.957342 \r\nL 406.768373 212.795172 \r\nL 408.805613 202.375612 \r\nL 410.842853 185.79904 \r\nL 412.880093 223.688348 \r\nL 414.917333 205.21731 \r\nL 416.954573 191.00882 \r\nL 418.991813 218.478568 \r\nL 421.029053 222.267499 \r\nL 423.066292 187.693505 \r\nL 425.103532 208.532625 \r\nL 427.140772 215.163253 \r\nL 429.178012 193.376902 \r\nL 431.215252 216.110486 \r\nL 433.252492 222.741115 \r\nL 435.289732 181.536493 \r\nL 437.326972 201.428379 \r\nL 439.364211 217.057719 \r\nL 441.401451 189.114354 \r\nL 443.438691 213.268788 \r\nL 445.475931 209.006241 \r\nL 447.513171 189.587971 \r\nL 449.550411 214.216021 \r\nL 451.587651 193.850518 \r\nL 453.62489 184.851807 \r\nL 455.66213 215.63687 \r\nL 457.69937 196.692216 \r\nL 459.73661 183.430958 \r\nL 461.77385 213.268788 \r\nL 463.81109 191.482436 \r\nL 465.84833 191.00882 \r\nL 467.88557 213.268788 \r\nL 469.922809 182.957342 \r\nL 471.960049 191.956053 \r\nL 473.997289 214.216021 \r\nL 476.034529 188.640738 \r\nL 478.071769 196.692216 \r\nL 480.109009 212.321555 \r\nL 482.146249 183.430958 \r\nL 484.183488 214.689637 \r\nL 486.220728 209.479857 \r\nL 488.257968 187.693505 \r\nL 490.295208 212.795172 \r\nL 492.332448 206.638159 \r\nL 494.369688 182.483726 \r\nL 496.406928 210.900706 \r\nL 498.444168 212.795172 \r\nL 500.481407 188.167122 \r\nL 502.518647 203.796461 \r\nL 504.555887 213.742404 \r\nL 506.593127 181.536493 \r\nL 508.630367 202.375612 \r\nL 510.667607 212.321555 \r\nL 512.704847 195.271367 \r\nL 514.742087 220.373033 \r\nL 516.779326 224.63558 \r\nL 518.816566 182.957342 \r\nL 520.853806 202.375612 \r\nL 522.891046 216.584102 \r\nL 524.928286 192.429669 \r\nL 526.965526 213.742404 \r\nL 529.002766 213.742404 \r\nL 531.040005 177.747562 \r\nL 533.077245 209.953474 \r\nL 535.114485 210.42709 \r\nL 537.151725 184.378191 \r\nL 539.188965 220.84665 \r\nL 541.226205 182.483726 \r\nL 543.263445 202.849228 \r\nL 545.300685 230.792593 \r\nL 547.337924 201.901996 \r\nL 549.375164 200.00753 \r\nL 551.412404 228.424511 \r\nL 553.449644 200.481147 \r\nL 555.486884 187.693505 \r\nL 557.524124 218.952184 \r\nL 559.561364 195.744983 \r\nL 559.561364 195.744983 \r\n\" style=\"fill:none;stroke:#1f77b4;stroke-linecap:square;stroke-width:1.5;\"/>\r\n   </g>\r\n   <g id=\"line2d_14\">\r\n    <path clip-path=\"url(#pe9284cc25e)\" d=\"M 52.288636 159.371248 \r\nL 54.325876 160.093712 \r\nL 56.363116 164.977613 \r\nL 58.400356 179.635215 \r\nL 60.437596 172.608786 \r\nL 62.474836 182.590171 \r\nL 64.512076 163.112619 \r\nL 66.549315 196.786939 \r\nL 68.586555 180.091963 \r\nL 70.623795 150.988239 \r\nL 72.661035 155.771764 \r\nL 74.698275 151.556578 \r\nL 76.735515 154.666659 \r\nL 78.772755 162.970732 \r\nL 80.809995 160.760523 \r\nL 82.847234 150.964558 \r\nL 84.884474 151.769706 \r\nL 86.921714 164.3679 \r\nL 88.958954 166.143962 \r\nL 90.996194 184.709722 \r\nL 93.033434 171.290593 \r\nL 95.070674 170.374934 \r\nL 97.107913 169.123798 \r\nL 99.145153 199.411563 \r\nL 101.182393 177.992264 \r\nL 103.219633 197.805214 \r\nL 105.256873 198.030182 \r\nL 107.294113 182.377162 \r\nL 109.331353 198.423547 \r\nL 111.368593 153.545767 \r\nL 113.405832 161.45516 \r\nL 115.443072 166.226845 \r\nL 117.480312 163.693307 \r\nL 119.517552 171.622771 \r\nL 121.554792 172.506208 \r\nL 123.592032 155.534956 \r\nL 125.629272 182.767895 \r\nL 127.666512 237.075903 \r\nL 131.740991 175.805735 \r\nL 133.778231 142.03689 \r\nL 135.815471 140.426594 \r\nL 137.852711 158.660824 \r\nL 139.889951 151.059281 \r\nL 141.927191 154.812691 \r\nL 143.96443 139.254394 \r\nL 146.00167 154.883733 \r\nL 148.03891 155.227105 \r\nL 150.07615 156.411146 \r\nL 152.11339 167.493768 \r\nL 154.15063 173.461334 \r\nL 156.18787 175.616289 \r\nL 158.22511 179.263135 \r\nL 160.262349 173.982312 \r\nL 162.299589 168.085789 \r\nL 164.336829 174.171759 \r\nL 166.374069 172.774591 \r\nL 168.411309 176.752968 \r\nL 170.448549 166.38077 \r\nL 172.485789 153.735214 \r\nL 174.523028 167.683215 \r\nL 176.560268 166.333408 \r\nL 178.597508 184.501075 \r\nL 180.634748 165.98609 \r\nL 182.671988 170.769615 \r\nL 184.709228 171.87472 \r\nL 186.746468 176.279352 \r\nL 188.783708 176.989776 \r\nL 190.820947 181.252323 \r\nL 192.858187 173.106122 \r\nL 194.895427 160.88682 \r\nL 196.932667 167.833193 \r\nL 198.969907 169.111958 \r\nL 201.007147 171.965496 \r\nL 203.044387 174.049408 \r\nL 205.081627 167.110928 \r\nL 207.118866 178.714529 \r\nL 209.156106 172.360176 \r\nL 211.193346 180.58926 \r\nL 213.230586 180.87343 \r\nL 215.267826 171.401103 \r\nL 217.305066 184.769234 \r\nL 219.342306 202.448961 \r\nL 221.379545 211.79499 \r\nL 223.416785 203.681713 \r\nL 225.454025 205.055538 \r\nL 227.491265 234.738121 \r\nL 229.528505 220.041502 \r\nL 231.565745 229.255971 \r\nL 233.602985 225.719578 \r\nL 235.640225 244.411058 \r\nL 237.677464 246.796604 \r\nL 239.714704 250.680316 \r\nL 241.751944 229.79871 \r\nL 243.789184 201.544511 \r\nL 245.826424 204.105144 \r\nL 247.863664 220.245543 \r\nL 249.900904 195.011607 \r\nL 251.938143 246.073035 \r\nL 253.975383 234.569607 \r\nL 256.012623 217.852579 \r\nL 258.049863 221.92731 \r\nL 260.087103 226.830868 \r\nL 262.124343 202.247074 \r\nL 264.161583 204.94358 \r\nL 266.198823 216.69502 \r\nL 268.236062 194.763528 \r\nL 270.273302 197.403252 \r\nL 272.310542 215.344993 \r\nL 278.422262 219.876228 \r\nL 280.459502 237.280288 \r\nL 282.496742 249.709237 \r\nL 284.533981 255.414871 \r\nL 286.571221 283.600815 \r\nL 288.608461 278.305995 \r\nL 290.645701 300.014253 \r\nL 292.682941 302.645455 \r\nL 294.720181 296.372669 \r\nL 296.757421 292.899483 \r\nL 298.79466 288.42315 \r\nL 300.8319 281.238654 \r\nL 302.86914 280.439426 \r\nL 304.90638 277.305665 \r\nL 306.94362 275.13808 \r\nL 308.98086 280.65058 \r\nL 317.129819 280.374304 \r\nL 319.167059 265.338958 \r\nL 321.204299 273.974563 \r\nL 323.241539 273.919308 \r\nL 325.278779 275.34805 \r\nL 327.316019 276.58932 \r\nL 329.353258 276.863623 \r\nL 331.390498 273.175335 \r\nL 333.427738 256.224606 \r\nL 335.464978 253.81232 \r\nL 337.502218 261.943524 \r\nL 339.539458 245.433653 \r\nL 341.576698 250.370708 \r\nL 343.613938 250.096406 \r\nL 345.651177 251.436345 \r\nL 347.688417 254.260283 \r\nL 349.725657 255.095031 \r\nL 351.762897 262.110474 \r\nL 353.800137 261.121799 \r\nL 355.837377 250.850245 \r\nL 357.874617 248.140765 \r\nL 359.911857 238.649362 \r\nL 361.949096 214.462301 \r\nL 363.986336 176.572994 \r\nL 366.023576 162.126116 \r\nL 368.060816 145.541651 \r\nL 370.098056 151.094802 \r\nL 372.135296 154.161468 \r\nL 374.172536 150.691439 \r\nL 376.209775 159.66489 \r\nL 378.247015 164.107412 \r\nL 380.284255 140.459747 \r\nL 382.321495 198.874009 \r\nL 384.358735 219.618404 \r\nL 386.395975 200.57587 \r\nL 388.433215 241.212152 \r\nL 390.470455 200.717955 \r\nL 392.507694 201.965145 \r\nL 394.544934 216.205209 \r\nL 396.582174 151.88811 \r\nL 398.619414 126.502274 \r\nL 400.656654 160.981544 \r\nL 402.693894 186.556826 \r\nL 404.731134 213.931851 \r\nL 406.768373 194.646193 \r\nL 408.805613 185.884291 \r\nL 410.842853 178.055413 \r\nL 412.880093 159.039717 \r\nL 414.917333 184.780765 \r\nL 416.954573 184.449233 \r\nL 418.991813 192.56386 \r\nL 421.029053 214.910658 \r\nL 423.066292 179.99724 \r\nL 425.103532 176.579309 \r\nL 427.140772 169.601361 \r\nL 429.178012 175.474204 \r\nL 431.215252 173.579738 \r\nL 433.252492 177.273946 \r\nL 435.289732 174.811141 \r\nL 437.326972 208.780217 \r\nL 439.364211 201.581249 \r\nL 441.401451 200.160676 \r\nL 443.438691 193.056708 \r\nL 445.475931 169.411915 \r\nL 447.513171 173.674462 \r\nL 449.550411 173.91127 \r\nL 451.587651 187.235676 \r\nL 453.62489 175.174247 \r\nL 455.66213 160.697374 \r\nL 457.69937 160.88682 \r\nL 459.73661 152.930066 \r\nL 461.77385 160.555289 \r\nL 463.81109 146.630968 \r\nL 465.84833 146.252075 \r\nL 467.88557 166.238685 \r\nL 469.922809 191.766606 \r\nL 473.997289 207.916923 \r\nL 476.034529 207.893243 \r\nL 478.071769 207.609073 \r\nL 480.109009 206.922329 \r\nL 482.146249 212.795172 \r\nL 484.183488 207.359348 \r\nL 486.220728 221.098718 \r\nL 488.257968 224.16646 \r\nL 490.295208 222.650888 \r\nL 492.332448 222.954242 \r\nL 494.369688 164.391581 \r\nL 496.406928 173.05876 \r\nL 498.444168 195.531856 \r\nL 500.481407 182.31796 \r\nL 502.518647 185.195179 \r\nL 504.555887 163.278583 \r\nL 506.593127 152.634056 \r\nL 508.630367 169.696084 \r\nL 510.667607 188.261845 \r\nL 512.704847 213.505596 \r\nL 514.742087 222.409583 \r\nL 516.779326 225.440728 \r\nL 518.816566 209.716665 \r\nL 520.853806 217.10508 \r\nL 522.891046 200.2917 \r\nL 524.928286 202.555586 \r\nL 526.965526 196.076515 \r\nL 529.002766 196.265961 \r\nL 531.040005 190.108949 \r\nL 535.114485 181.370727 \r\nL 537.151725 205.146268 \r\nL 539.188965 179.357858 \r\nL 541.226205 158.234569 \r\nL 543.263445 152.645896 \r\nL 545.300685 132.896094 \r\nL 547.337924 136.116686 \r\nL 549.375164 161.835488 \r\nL 551.412404 190.29409 \r\nL 553.449644 189.299495 \r\nL 555.486884 186.398595 \r\nL 557.524124 157.265091 \r\nL 559.561364 162.522232 \r\nL 559.561364 162.522232 \r\n\" style=\"fill:none;stroke:#ff7f0e;stroke-linecap:square;stroke-width:1.5;\"/>\r\n   </g>\r\n   <g id=\"patch_3\">\r\n    <path d=\"M 26.925 315 \r\nL 26.925 43.2 \r\n\" style=\"fill:none;stroke:#000000;stroke-linecap:square;stroke-linejoin:miter;stroke-width:0.8;\"/>\r\n   </g>\r\n   <g id=\"patch_4\">\r\n    <path d=\"M 584.925 315 \r\nL 584.925 43.2 \r\n\" style=\"fill:none;stroke:#000000;stroke-linecap:square;stroke-linejoin:miter;stroke-width:0.8;\"/>\r\n   </g>\r\n   <g id=\"patch_5\">\r\n    <path d=\"M 26.925 315 \r\nL 584.925 315 \r\n\" style=\"fill:none;stroke:#000000;stroke-linecap:square;stroke-linejoin:miter;stroke-width:0.8;\"/>\r\n   </g>\r\n   <g id=\"patch_6\">\r\n    <path d=\"M 26.925 43.2 \r\nL 584.925 43.2 \r\n\" style=\"fill:none;stroke:#000000;stroke-linecap:square;stroke-linejoin:miter;stroke-width:0.8;\"/>\r\n   </g>\r\n   <g id=\"legend_1\">\r\n    <g id=\"patch_7\">\r\n     <path d=\"M 480.7 80.55625 \r\nL 577.925 80.55625 \r\nQ 579.925 80.55625 579.925 78.55625 \r\nL 579.925 50.2 \r\nQ 579.925 48.2 577.925 48.2 \r\nL 480.7 48.2 \r\nQ 478.7 48.2 478.7 50.2 \r\nL 478.7 78.55625 \r\nQ 478.7 80.55625 480.7 80.55625 \r\nz\r\n\" style=\"fill:#ffffff;opacity:0.8;stroke:#cccccc;stroke-linejoin:miter;\"/>\r\n    </g>\r\n    <g id=\"line2d_15\">\r\n     <path d=\"M 482.7 56.298437 \r\nL 502.7 56.298437 \r\n\" style=\"fill:none;stroke:#1f77b4;stroke-linecap:square;stroke-width:1.5;\"/>\r\n    </g>\r\n    <g id=\"line2d_16\"/>\r\n    <g id=\"text_13\">\r\n     <!-- real -->\r\n     <g transform=\"translate(510.7 59.798437)scale(0.1 -0.1)\">\r\n      <defs>\r\n       <path d=\"M 41.109375 46.296875 \r\nQ 39.59375 47.171875 37.8125 47.578125 \r\nQ 36.03125 48 33.890625 48 \r\nQ 26.265625 48 22.1875 43.046875 \r\nQ 18.109375 38.09375 18.109375 28.8125 \r\nL 18.109375 0 \r\nL 9.078125 0 \r\nL 9.078125 54.6875 \r\nL 18.109375 54.6875 \r\nL 18.109375 46.1875 \r\nQ 20.953125 51.171875 25.484375 53.578125 \r\nQ 30.03125 56 36.53125 56 \r\nQ 37.453125 56 38.578125 55.875 \r\nQ 39.703125 55.765625 41.0625 55.515625 \r\nz\r\n\" id=\"DejaVuSans-114\"/>\r\n       <path d=\"M 56.203125 29.59375 \r\nL 56.203125 25.203125 \r\nL 14.890625 25.203125 \r\nQ 15.484375 15.921875 20.484375 11.0625 \r\nQ 25.484375 6.203125 34.421875 6.203125 \r\nQ 39.59375 6.203125 44.453125 7.46875 \r\nQ 49.3125 8.734375 54.109375 11.28125 \r\nL 54.109375 2.78125 \r\nQ 49.265625 0.734375 44.1875 -0.34375 \r\nQ 39.109375 -1.421875 33.890625 -1.421875 \r\nQ 20.796875 -1.421875 13.15625 6.1875 \r\nQ 5.515625 13.8125 5.515625 26.8125 \r\nQ 5.515625 40.234375 12.765625 48.109375 \r\nQ 20.015625 56 32.328125 56 \r\nQ 43.359375 56 49.78125 48.890625 \r\nQ 56.203125 41.796875 56.203125 29.59375 \r\nz\r\nM 47.21875 32.234375 \r\nQ 47.125 39.59375 43.09375 43.984375 \r\nQ 39.0625 48.390625 32.421875 48.390625 \r\nQ 24.90625 48.390625 20.390625 44.140625 \r\nQ 15.875 39.890625 15.1875 32.171875 \r\nz\r\n\" id=\"DejaVuSans-101\"/>\r\n       <path d=\"M 34.28125 27.484375 \r\nQ 23.390625 27.484375 19.1875 25 \r\nQ 14.984375 22.515625 14.984375 16.5 \r\nQ 14.984375 11.71875 18.140625 8.90625 \r\nQ 21.296875 6.109375 26.703125 6.109375 \r\nQ 34.1875 6.109375 38.703125 11.40625 \r\nQ 43.21875 16.703125 43.21875 25.484375 \r\nL 43.21875 27.484375 \r\nz\r\nM 52.203125 31.203125 \r\nL 52.203125 0 \r\nL 43.21875 0 \r\nL 43.21875 8.296875 \r\nQ 40.140625 3.328125 35.546875 0.953125 \r\nQ 30.953125 -1.421875 24.3125 -1.421875 \r\nQ 15.921875 -1.421875 10.953125 3.296875 \r\nQ 6 8.015625 6 15.921875 \r\nQ 6 25.140625 12.171875 29.828125 \r\nQ 18.359375 34.515625 30.609375 34.515625 \r\nL 43.21875 34.515625 \r\nL 43.21875 35.40625 \r\nQ 43.21875 41.609375 39.140625 45 \r\nQ 35.0625 48.390625 27.6875 48.390625 \r\nQ 23 48.390625 18.546875 47.265625 \r\nQ 14.109375 46.140625 10.015625 43.890625 \r\nL 10.015625 52.203125 \r\nQ 14.9375 54.109375 19.578125 55.046875 \r\nQ 24.21875 56 28.609375 56 \r\nQ 40.484375 56 46.34375 49.84375 \r\nQ 52.203125 43.703125 52.203125 31.203125 \r\nz\r\n\" id=\"DejaVuSans-97\"/>\r\n       <path d=\"M 9.421875 75.984375 \r\nL 18.40625 75.984375 \r\nL 18.40625 0 \r\nL 9.421875 0 \r\nz\r\n\" id=\"DejaVuSans-108\"/>\r\n      </defs>\r\n      <use xlink:href=\"#DejaVuSans-114\"/>\r\n      <use x=\"38.863281\" xlink:href=\"#DejaVuSans-101\"/>\r\n      <use x=\"100.386719\" xlink:href=\"#DejaVuSans-97\"/>\r\n      <use x=\"161.666016\" xlink:href=\"#DejaVuSans-108\"/>\r\n     </g>\r\n    </g>\r\n    <g id=\"line2d_17\">\r\n     <path d=\"M 482.7 70.976562 \r\nL 502.7 70.976562 \r\n\" style=\"fill:none;stroke:#ff7f0e;stroke-linecap:square;stroke-width:1.5;\"/>\r\n    </g>\r\n    <g id=\"line2d_18\"/>\r\n    <g id=\"text_14\">\r\n     <!-- neural dense -->\r\n     <g transform=\"translate(510.7 74.476562)scale(0.1 -0.1)\">\r\n      <defs>\r\n       <path d=\"M 54.890625 33.015625 \r\nL 54.890625 0 \r\nL 45.90625 0 \r\nL 45.90625 32.71875 \r\nQ 45.90625 40.484375 42.875 44.328125 \r\nQ 39.84375 48.1875 33.796875 48.1875 \r\nQ 26.515625 48.1875 22.3125 43.546875 \r\nQ 18.109375 38.921875 18.109375 30.90625 \r\nL 18.109375 0 \r\nL 9.078125 0 \r\nL 9.078125 54.6875 \r\nL 18.109375 54.6875 \r\nL 18.109375 46.1875 \r\nQ 21.34375 51.125 25.703125 53.5625 \r\nQ 30.078125 56 35.796875 56 \r\nQ 45.21875 56 50.046875 50.171875 \r\nQ 54.890625 44.34375 54.890625 33.015625 \r\nz\r\n\" id=\"DejaVuSans-110\"/>\r\n       <path d=\"M 8.5 21.578125 \r\nL 8.5 54.6875 \r\nL 17.484375 54.6875 \r\nL 17.484375 21.921875 \r\nQ 17.484375 14.15625 20.5 10.265625 \r\nQ 23.53125 6.390625 29.59375 6.390625 \r\nQ 36.859375 6.390625 41.078125 11.03125 \r\nQ 45.3125 15.671875 45.3125 23.6875 \r\nL 45.3125 54.6875 \r\nL 54.296875 54.6875 \r\nL 54.296875 0 \r\nL 45.3125 0 \r\nL 45.3125 8.40625 \r\nQ 42.046875 3.421875 37.71875 1 \r\nQ 33.40625 -1.421875 27.6875 -1.421875 \r\nQ 18.265625 -1.421875 13.375 4.4375 \r\nQ 8.5 10.296875 8.5 21.578125 \r\nz\r\nM 31.109375 56 \r\nz\r\n\" id=\"DejaVuSans-117\"/>\r\n       <path id=\"DejaVuSans-32\"/>\r\n       <path d=\"M 45.40625 46.390625 \r\nL 45.40625 75.984375 \r\nL 54.390625 75.984375 \r\nL 54.390625 0 \r\nL 45.40625 0 \r\nL 45.40625 8.203125 \r\nQ 42.578125 3.328125 38.25 0.953125 \r\nQ 33.9375 -1.421875 27.875 -1.421875 \r\nQ 17.96875 -1.421875 11.734375 6.484375 \r\nQ 5.515625 14.40625 5.515625 27.296875 \r\nQ 5.515625 40.1875 11.734375 48.09375 \r\nQ 17.96875 56 27.875 56 \r\nQ 33.9375 56 38.25 53.625 \r\nQ 42.578125 51.265625 45.40625 46.390625 \r\nz\r\nM 14.796875 27.296875 \r\nQ 14.796875 17.390625 18.875 11.75 \r\nQ 22.953125 6.109375 30.078125 6.109375 \r\nQ 37.203125 6.109375 41.296875 11.75 \r\nQ 45.40625 17.390625 45.40625 27.296875 \r\nQ 45.40625 37.203125 41.296875 42.84375 \r\nQ 37.203125 48.484375 30.078125 48.484375 \r\nQ 22.953125 48.484375 18.875 42.84375 \r\nQ 14.796875 37.203125 14.796875 27.296875 \r\nz\r\n\" id=\"DejaVuSans-100\"/>\r\n       <path d=\"M 44.28125 53.078125 \r\nL 44.28125 44.578125 \r\nQ 40.484375 46.53125 36.375 47.5 \r\nQ 32.28125 48.484375 27.875 48.484375 \r\nQ 21.1875 48.484375 17.84375 46.4375 \r\nQ 14.5 44.390625 14.5 40.28125 \r\nQ 14.5 37.15625 16.890625 35.375 \r\nQ 19.28125 33.59375 26.515625 31.984375 \r\nL 29.59375 31.296875 \r\nQ 39.15625 29.25 43.1875 25.515625 \r\nQ 47.21875 21.78125 47.21875 15.09375 \r\nQ 47.21875 7.46875 41.1875 3.015625 \r\nQ 35.15625 -1.421875 24.609375 -1.421875 \r\nQ 20.21875 -1.421875 15.453125 -0.5625 \r\nQ 10.6875 0.296875 5.421875 2 \r\nL 5.421875 11.28125 \r\nQ 10.40625 8.6875 15.234375 7.390625 \r\nQ 20.0625 6.109375 24.8125 6.109375 \r\nQ 31.15625 6.109375 34.5625 8.28125 \r\nQ 37.984375 10.453125 37.984375 14.40625 \r\nQ 37.984375 18.0625 35.515625 20.015625 \r\nQ 33.0625 21.96875 24.703125 23.78125 \r\nL 21.578125 24.515625 \r\nQ 13.234375 26.265625 9.515625 29.90625 \r\nQ 5.8125 33.546875 5.8125 39.890625 \r\nQ 5.8125 47.609375 11.28125 51.796875 \r\nQ 16.75 56 26.8125 56 \r\nQ 31.78125 56 36.171875 55.265625 \r\nQ 40.578125 54.546875 44.28125 53.078125 \r\nz\r\n\" id=\"DejaVuSans-115\"/>\r\n      </defs>\r\n      <use xlink:href=\"#DejaVuSans-110\"/>\r\n      <use x=\"63.378906\" xlink:href=\"#DejaVuSans-101\"/>\r\n      <use x=\"124.902344\" xlink:href=\"#DejaVuSans-117\"/>\r\n      <use x=\"188.28125\" xlink:href=\"#DejaVuSans-114\"/>\r\n      <use x=\"229.394531\" xlink:href=\"#DejaVuSans-97\"/>\r\n      <use x=\"290.673828\" xlink:href=\"#DejaVuSans-108\"/>\r\n      <use x=\"318.457031\" xlink:href=\"#DejaVuSans-32\"/>\r\n      <use x=\"350.244141\" xlink:href=\"#DejaVuSans-100\"/>\r\n      <use x=\"413.720703\" xlink:href=\"#DejaVuSans-101\"/>\r\n      <use x=\"475.244141\" xlink:href=\"#DejaVuSans-110\"/>\r\n      <use x=\"538.623047\" xlink:href=\"#DejaVuSans-115\"/>\r\n      <use x=\"590.722656\" xlink:href=\"#DejaVuSans-101\"/>\r\n     </g>\r\n    </g>\r\n   </g>\r\n  </g>\r\n  <g id=\"text_15\">\r\n   <!-- Vertically stacked subplots -->\r\n   <g transform=\"translate(216.859688 16.318125)scale(0.12 -0.12)\">\r\n    <defs>\r\n     <path d=\"M 28.609375 0 \r\nL 0.78125 72.90625 \r\nL 11.078125 72.90625 \r\nL 34.1875 11.53125 \r\nL 57.328125 72.90625 \r\nL 67.578125 72.90625 \r\nL 39.796875 0 \r\nz\r\n\" id=\"DejaVuSans-86\"/>\r\n     <path d=\"M 18.3125 70.21875 \r\nL 18.3125 54.6875 \r\nL 36.8125 54.6875 \r\nL 36.8125 47.703125 \r\nL 18.3125 47.703125 \r\nL 18.3125 18.015625 \r\nQ 18.3125 11.328125 20.140625 9.421875 \r\nQ 21.96875 7.515625 27.59375 7.515625 \r\nL 36.8125 7.515625 \r\nL 36.8125 0 \r\nL 27.59375 0 \r\nQ 17.1875 0 13.234375 3.875 \r\nQ 9.28125 7.765625 9.28125 18.015625 \r\nL 9.28125 47.703125 \r\nL 2.6875 47.703125 \r\nL 2.6875 54.6875 \r\nL 9.28125 54.6875 \r\nL 9.28125 70.21875 \r\nz\r\n\" id=\"DejaVuSans-116\"/>\r\n     <path d=\"M 9.421875 54.6875 \r\nL 18.40625 54.6875 \r\nL 18.40625 0 \r\nL 9.421875 0 \r\nz\r\nM 9.421875 75.984375 \r\nL 18.40625 75.984375 \r\nL 18.40625 64.59375 \r\nL 9.421875 64.59375 \r\nz\r\n\" id=\"DejaVuSans-105\"/>\r\n     <path d=\"M 48.78125 52.59375 \r\nL 48.78125 44.1875 \r\nQ 44.96875 46.296875 41.140625 47.34375 \r\nQ 37.3125 48.390625 33.40625 48.390625 \r\nQ 24.65625 48.390625 19.8125 42.84375 \r\nQ 14.984375 37.3125 14.984375 27.296875 \r\nQ 14.984375 17.28125 19.8125 11.734375 \r\nQ 24.65625 6.203125 33.40625 6.203125 \r\nQ 37.3125 6.203125 41.140625 7.25 \r\nQ 44.96875 8.296875 48.78125 10.40625 \r\nL 48.78125 2.09375 \r\nQ 45.015625 0.34375 40.984375 -0.53125 \r\nQ 36.96875 -1.421875 32.421875 -1.421875 \r\nQ 20.0625 -1.421875 12.78125 6.34375 \r\nQ 5.515625 14.109375 5.515625 27.296875 \r\nQ 5.515625 40.671875 12.859375 48.328125 \r\nQ 20.21875 56 33.015625 56 \r\nQ 37.15625 56 41.109375 55.140625 \r\nQ 45.0625 54.296875 48.78125 52.59375 \r\nz\r\n\" id=\"DejaVuSans-99\"/>\r\n     <path d=\"M 32.171875 -5.078125 \r\nQ 28.375 -14.84375 24.75 -17.8125 \r\nQ 21.140625 -20.796875 15.09375 -20.796875 \r\nL 7.90625 -20.796875 \r\nL 7.90625 -13.28125 \r\nL 13.1875 -13.28125 \r\nQ 16.890625 -13.28125 18.9375 -11.515625 \r\nQ 21 -9.765625 23.484375 -3.21875 \r\nL 25.09375 0.875 \r\nL 2.984375 54.6875 \r\nL 12.5 54.6875 \r\nL 29.59375 11.921875 \r\nL 46.6875 54.6875 \r\nL 56.203125 54.6875 \r\nz\r\n\" id=\"DejaVuSans-121\"/>\r\n     <path d=\"M 9.078125 75.984375 \r\nL 18.109375 75.984375 \r\nL 18.109375 31.109375 \r\nL 44.921875 54.6875 \r\nL 56.390625 54.6875 \r\nL 27.390625 29.109375 \r\nL 57.625 0 \r\nL 45.90625 0 \r\nL 18.109375 26.703125 \r\nL 18.109375 0 \r\nL 9.078125 0 \r\nz\r\n\" id=\"DejaVuSans-107\"/>\r\n     <path d=\"M 48.6875 27.296875 \r\nQ 48.6875 37.203125 44.609375 42.84375 \r\nQ 40.53125 48.484375 33.40625 48.484375 \r\nQ 26.265625 48.484375 22.1875 42.84375 \r\nQ 18.109375 37.203125 18.109375 27.296875 \r\nQ 18.109375 17.390625 22.1875 11.75 \r\nQ 26.265625 6.109375 33.40625 6.109375 \r\nQ 40.53125 6.109375 44.609375 11.75 \r\nQ 48.6875 17.390625 48.6875 27.296875 \r\nz\r\nM 18.109375 46.390625 \r\nQ 20.953125 51.265625 25.265625 53.625 \r\nQ 29.59375 56 35.59375 56 \r\nQ 45.5625 56 51.78125 48.09375 \r\nQ 58.015625 40.1875 58.015625 27.296875 \r\nQ 58.015625 14.40625 51.78125 6.484375 \r\nQ 45.5625 -1.421875 35.59375 -1.421875 \r\nQ 29.59375 -1.421875 25.265625 0.953125 \r\nQ 20.953125 3.328125 18.109375 8.203125 \r\nL 18.109375 0 \r\nL 9.078125 0 \r\nL 9.078125 75.984375 \r\nL 18.109375 75.984375 \r\nz\r\n\" id=\"DejaVuSans-98\"/>\r\n     <path d=\"M 18.109375 8.203125 \r\nL 18.109375 -20.796875 \r\nL 9.078125 -20.796875 \r\nL 9.078125 54.6875 \r\nL 18.109375 54.6875 \r\nL 18.109375 46.390625 \r\nQ 20.953125 51.265625 25.265625 53.625 \r\nQ 29.59375 56 35.59375 56 \r\nQ 45.5625 56 51.78125 48.09375 \r\nQ 58.015625 40.1875 58.015625 27.296875 \r\nQ 58.015625 14.40625 51.78125 6.484375 \r\nQ 45.5625 -1.421875 35.59375 -1.421875 \r\nQ 29.59375 -1.421875 25.265625 0.953125 \r\nQ 20.953125 3.328125 18.109375 8.203125 \r\nz\r\nM 48.6875 27.296875 \r\nQ 48.6875 37.203125 44.609375 42.84375 \r\nQ 40.53125 48.484375 33.40625 48.484375 \r\nQ 26.265625 48.484375 22.1875 42.84375 \r\nQ 18.109375 37.203125 18.109375 27.296875 \r\nQ 18.109375 17.390625 22.1875 11.75 \r\nQ 26.265625 6.109375 33.40625 6.109375 \r\nQ 40.53125 6.109375 44.609375 11.75 \r\nQ 48.6875 17.390625 48.6875 27.296875 \r\nz\r\n\" id=\"DejaVuSans-112\"/>\r\n     <path d=\"M 30.609375 48.390625 \r\nQ 23.390625 48.390625 19.1875 42.75 \r\nQ 14.984375 37.109375 14.984375 27.296875 \r\nQ 14.984375 17.484375 19.15625 11.84375 \r\nQ 23.34375 6.203125 30.609375 6.203125 \r\nQ 37.796875 6.203125 41.984375 11.859375 \r\nQ 46.1875 17.53125 46.1875 27.296875 \r\nQ 46.1875 37.015625 41.984375 42.703125 \r\nQ 37.796875 48.390625 30.609375 48.390625 \r\nz\r\nM 30.609375 56 \r\nQ 42.328125 56 49.015625 48.375 \r\nQ 55.71875 40.765625 55.71875 27.296875 \r\nQ 55.71875 13.875 49.015625 6.21875 \r\nQ 42.328125 -1.421875 30.609375 -1.421875 \r\nQ 18.84375 -1.421875 12.171875 6.21875 \r\nQ 5.515625 13.875 5.515625 27.296875 \r\nQ 5.515625 40.765625 12.171875 48.375 \r\nQ 18.84375 56 30.609375 56 \r\nz\r\n\" id=\"DejaVuSans-111\"/>\r\n    </defs>\r\n    <use xlink:href=\"#DejaVuSans-86\"/>\r\n    <use x=\"60.658203\" xlink:href=\"#DejaVuSans-101\"/>\r\n    <use x=\"122.181641\" xlink:href=\"#DejaVuSans-114\"/>\r\n    <use x=\"163.294922\" xlink:href=\"#DejaVuSans-116\"/>\r\n    <use x=\"202.503906\" xlink:href=\"#DejaVuSans-105\"/>\r\n    <use x=\"230.287109\" xlink:href=\"#DejaVuSans-99\"/>\r\n    <use x=\"285.267578\" xlink:href=\"#DejaVuSans-97\"/>\r\n    <use x=\"346.546875\" xlink:href=\"#DejaVuSans-108\"/>\r\n    <use x=\"374.330078\" xlink:href=\"#DejaVuSans-108\"/>\r\n    <use x=\"402.113281\" xlink:href=\"#DejaVuSans-121\"/>\r\n    <use x=\"461.292969\" xlink:href=\"#DejaVuSans-32\"/>\r\n    <use x=\"493.080078\" xlink:href=\"#DejaVuSans-115\"/>\r\n    <use x=\"545.179688\" xlink:href=\"#DejaVuSans-116\"/>\r\n    <use x=\"584.388672\" xlink:href=\"#DejaVuSans-97\"/>\r\n    <use x=\"645.667969\" xlink:href=\"#DejaVuSans-99\"/>\r\n    <use x=\"700.648438\" xlink:href=\"#DejaVuSans-107\"/>\r\n    <use x=\"754.933594\" xlink:href=\"#DejaVuSans-101\"/>\r\n    <use x=\"816.457031\" xlink:href=\"#DejaVuSans-100\"/>\r\n    <use x=\"879.933594\" xlink:href=\"#DejaVuSans-32\"/>\r\n    <use x=\"911.720703\" xlink:href=\"#DejaVuSans-115\"/>\r\n    <use x=\"963.820312\" xlink:href=\"#DejaVuSans-117\"/>\r\n    <use x=\"1027.199219\" xlink:href=\"#DejaVuSans-98\"/>\r\n    <use x=\"1090.675781\" xlink:href=\"#DejaVuSans-112\"/>\r\n    <use x=\"1154.152344\" xlink:href=\"#DejaVuSans-108\"/>\r\n    <use x=\"1181.935547\" xlink:href=\"#DejaVuSans-111\"/>\r\n    <use x=\"1243.117188\" xlink:href=\"#DejaVuSans-116\"/>\r\n    <use x=\"1282.326172\" xlink:href=\"#DejaVuSans-115\"/>\r\n   </g>\r\n  </g>\r\n </g>\r\n <defs>\r\n  <clipPath id=\"pe9284cc25e\">\r\n   <rect height=\"271.8\" width=\"558\" x=\"26.925\" y=\"43.2\"/>\r\n  </clipPath>\r\n </defs>\r\n</svg>\r\n",
      "image/png": "[encoded data removed]"
     },
     "metadata": {
      "needs_background": "light"
     }
    }
   ],
   "source": [
    "\n",
    "plt.figure(figsize=(10,5))\n",
    "plt.suptitle('Vertically stacked subplots')\n",
    "# -window-test_size-valid_size:-lookback-window-test_size\n",
    "# fr = len(d)-test_size-lookback-val_size-1\n",
    "# to =  len(d)-test_size\n",
    "\n",
    "r = 20000\n",
    "fr = 19750\n",
    "# to = len(d)-lookback-window-test_size\n",
    "\n",
    "# fr = len(d)-test_size\n",
    "\n",
    "plt.plot(range(fr,r), y_test_pwr[fr:r,0],label='real',lw=1.5)\n",
    "plt.plot(range(fr,r), knn_preds[fr:r,0],label='neural dense',lw=1.5)\n",
    "\n",
    "\n",
    "plt.legend()"
   ]
  },
  {
   "cell_type": "code",
   "execution_count": null,
   "metadata": {},
   "outputs": [],
   "source": []
  }
 ]
}